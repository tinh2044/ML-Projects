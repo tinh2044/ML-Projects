{
 "cells": [
  {
   "cell_type": "markdown",
   "id": "9d53c8efdad167a1",
   "metadata": {
    "collapsed": false
   },
   "source": [
    "## Project : Titanic - ML from Disaster"
   ]
  },
  {
   "cell_type": "code",
   "execution_count": 1,
   "id": "initial_id",
   "metadata": {
    "ExecuteTime": {
     "end_time": "2023-09-01T04:04:18.154075100Z",
     "start_time": "2023-09-01T04:04:17.729796600Z"
    },
    "collapsed": true
   },
   "outputs": [],
   "source": [
    "#import library\n",
    "import pandas as pd\n",
    "import numpy as np\n",
    "import matplotlib.pyplot as plt\n",
    "import seaborn as sns"
   ]
  },
  {
   "cell_type": "markdown",
   "id": "d3d1f11fd83cf5ee",
   "metadata": {
    "collapsed": false
   },
   "source": [
    "## Loading data"
   ]
  },
  {
   "cell_type": "code",
   "execution_count": 2,
   "id": "54700b7c82b0c108",
   "metadata": {
    "ExecuteTime": {
     "end_time": "2023-09-01T04:04:18.214241400Z",
     "start_time": "2023-09-01T04:04:17.750804900Z"
    },
    "collapsed": false
   },
   "outputs": [],
   "source": [
    "train_df = pd.read_csv('./data/train.csv')\n",
    "test_df = pd.read_csv('./data/test.csv')\n"
   ]
  },
  {
   "cell_type": "code",
   "execution_count": 3,
   "id": "c55416522d8dc63b",
   "metadata": {
    "ExecuteTime": {
     "end_time": "2023-09-01T04:04:18.229241300Z",
     "start_time": "2023-09-01T04:04:17.766809100Z"
    },
    "collapsed": false
   },
   "outputs": [
    {
     "data": {
      "text/plain": [
       "Index(['PassengerId', 'Survived', 'Pclass', 'Name', 'Sex', 'Age', 'SibSp',\n",
       "       'Parch', 'Ticket', 'Fare', 'Cabin', 'Embarked'],\n",
       "      dtype='object')"
      ]
     },
     "execution_count": 3,
     "metadata": {},
     "output_type": "execute_result"
    }
   ],
   "source": [
    "train_df.columns"
   ]
  },
  {
   "cell_type": "code",
   "execution_count": 4,
   "id": "fdd68486697e3a3a",
   "metadata": {
    "ExecuteTime": {
     "end_time": "2023-09-01T04:04:18.243240800Z",
     "start_time": "2023-09-01T04:04:17.781804900Z"
    },
    "collapsed": false
   },
   "outputs": [
    {
     "data": {
      "text/plain": [
       "Index(['PassengerId', 'Pclass', 'Name', 'Sex', 'Age', 'SibSp', 'Parch',\n",
       "       'Ticket', 'Fare', 'Cabin', 'Embarked'],\n",
       "      dtype='object')"
      ]
     },
     "execution_count": 4,
     "metadata": {},
     "output_type": "execute_result"
    }
   ],
   "source": [
    "test_df.columns"
   ]
  },
  {
   "cell_type": "markdown",
   "id": "3cfdc4a1e40669d5",
   "metadata": {
    "collapsed": false
   },
   "source": [
    "#### Notes:\n",
    "- SibSp:# of siblings / spouses\n",
    "- Parch :# of parents / children aboard the Titanic\n",
    "- Ticket: Ticket number\n",
    "- Cabin: Cabin number"
   ]
  },
  {
   "cell_type": "code",
   "execution_count": 5,
   "id": "e4db32aa1bf41649",
   "metadata": {
    "ExecuteTime": {
     "end_time": "2023-09-01T04:04:18.259733100Z",
     "start_time": "2023-09-01T04:04:17.796805100Z"
    },
    "collapsed": false
   },
   "outputs": [
    {
     "data": {
      "text/html": [
       "<div>\n",
       "<style scoped>\n",
       "    .dataframe tbody tr th:only-of-type {\n",
       "        vertical-align: middle;\n",
       "    }\n",
       "\n",
       "    .dataframe tbody tr th {\n",
       "        vertical-align: top;\n",
       "    }\n",
       "\n",
       "    .dataframe thead th {\n",
       "        text-align: right;\n",
       "    }\n",
       "</style>\n",
       "<table border=\"1\" class=\"dataframe\">\n",
       "  <thead>\n",
       "    <tr style=\"text-align: right;\">\n",
       "      <th></th>\n",
       "      <th>PassengerId</th>\n",
       "      <th>Survived</th>\n",
       "      <th>Pclass</th>\n",
       "      <th>Name</th>\n",
       "      <th>Sex</th>\n",
       "      <th>Age</th>\n",
       "      <th>SibSp</th>\n",
       "      <th>Parch</th>\n",
       "      <th>Ticket</th>\n",
       "      <th>Fare</th>\n",
       "      <th>Cabin</th>\n",
       "      <th>Embarked</th>\n",
       "    </tr>\n",
       "  </thead>\n",
       "  <tbody>\n",
       "    <tr>\n",
       "      <th>0</th>\n",
       "      <td>1</td>\n",
       "      <td>0</td>\n",
       "      <td>3</td>\n",
       "      <td>Braund, Mr. Owen Harris</td>\n",
       "      <td>male</td>\n",
       "      <td>22.0</td>\n",
       "      <td>1</td>\n",
       "      <td>0</td>\n",
       "      <td>A/5 21171</td>\n",
       "      <td>7.2500</td>\n",
       "      <td>NaN</td>\n",
       "      <td>S</td>\n",
       "    </tr>\n",
       "    <tr>\n",
       "      <th>1</th>\n",
       "      <td>2</td>\n",
       "      <td>1</td>\n",
       "      <td>1</td>\n",
       "      <td>Cumings, Mrs. John Bradley (Florence Briggs Th...</td>\n",
       "      <td>female</td>\n",
       "      <td>38.0</td>\n",
       "      <td>1</td>\n",
       "      <td>0</td>\n",
       "      <td>PC 17599</td>\n",
       "      <td>71.2833</td>\n",
       "      <td>C85</td>\n",
       "      <td>C</td>\n",
       "    </tr>\n",
       "    <tr>\n",
       "      <th>2</th>\n",
       "      <td>3</td>\n",
       "      <td>1</td>\n",
       "      <td>3</td>\n",
       "      <td>Heikkinen, Miss. Laina</td>\n",
       "      <td>female</td>\n",
       "      <td>26.0</td>\n",
       "      <td>0</td>\n",
       "      <td>0</td>\n",
       "      <td>STON/O2. 3101282</td>\n",
       "      <td>7.9250</td>\n",
       "      <td>NaN</td>\n",
       "      <td>S</td>\n",
       "    </tr>\n",
       "    <tr>\n",
       "      <th>3</th>\n",
       "      <td>4</td>\n",
       "      <td>1</td>\n",
       "      <td>1</td>\n",
       "      <td>Futrelle, Mrs. Jacques Heath (Lily May Peel)</td>\n",
       "      <td>female</td>\n",
       "      <td>35.0</td>\n",
       "      <td>1</td>\n",
       "      <td>0</td>\n",
       "      <td>113803</td>\n",
       "      <td>53.1000</td>\n",
       "      <td>C123</td>\n",
       "      <td>S</td>\n",
       "    </tr>\n",
       "    <tr>\n",
       "      <th>4</th>\n",
       "      <td>5</td>\n",
       "      <td>0</td>\n",
       "      <td>3</td>\n",
       "      <td>Allen, Mr. William Henry</td>\n",
       "      <td>male</td>\n",
       "      <td>35.0</td>\n",
       "      <td>0</td>\n",
       "      <td>0</td>\n",
       "      <td>373450</td>\n",
       "      <td>8.0500</td>\n",
       "      <td>NaN</td>\n",
       "      <td>S</td>\n",
       "    </tr>\n",
       "  </tbody>\n",
       "</table>\n",
       "</div>"
      ],
      "text/plain": [
       "   PassengerId  Survived  Pclass  \\\n",
       "0            1         0       3   \n",
       "1            2         1       1   \n",
       "2            3         1       3   \n",
       "3            4         1       1   \n",
       "4            5         0       3   \n",
       "\n",
       "                                                Name     Sex   Age  SibSp  \\\n",
       "0                            Braund, Mr. Owen Harris    male  22.0      1   \n",
       "1  Cumings, Mrs. John Bradley (Florence Briggs Th...  female  38.0      1   \n",
       "2                             Heikkinen, Miss. Laina  female  26.0      0   \n",
       "3       Futrelle, Mrs. Jacques Heath (Lily May Peel)  female  35.0      1   \n",
       "4                           Allen, Mr. William Henry    male  35.0      0   \n",
       "\n",
       "   Parch            Ticket     Fare Cabin Embarked  \n",
       "0      0         A/5 21171   7.2500   NaN        S  \n",
       "1      0          PC 17599  71.2833   C85        C  \n",
       "2      0  STON/O2. 3101282   7.9250   NaN        S  \n",
       "3      0            113803  53.1000  C123        S  \n",
       "4      0            373450   8.0500   NaN        S  "
      ]
     },
     "execution_count": 5,
     "metadata": {},
     "output_type": "execute_result"
    }
   ],
   "source": [
    "# preview data\n",
    "train_df.head()"
   ]
  },
  {
   "cell_type": "markdown",
   "id": "f91556e4018e5cd2",
   "metadata": {
    "collapsed": false
   },
   "source": [
    "##### PassengerID\n",
    "<p>The first columns is the PassengerID. The ID for a panssenger is just a number to identify this panssenger is this dataset> So this columns is not really a part of the information we should care about. We can drop this colums or make it the index for this dataset.Let's make it the index for the dataset just to demonstrate the use of df.set_index method.</p>"
   ]
  },
  {
   "cell_type": "code",
   "execution_count": 6,
   "id": "fa2e5957a5f8cbc2",
   "metadata": {
    "ExecuteTime": {
     "end_time": "2023-09-01T04:04:18.265101900Z",
     "start_time": "2023-09-01T04:04:17.811729Z"
    },
    "collapsed": false
   },
   "outputs": [
    {
     "data": {
      "text/html": [
       "<div>\n",
       "<style scoped>\n",
       "    .dataframe tbody tr th:only-of-type {\n",
       "        vertical-align: middle;\n",
       "    }\n",
       "\n",
       "    .dataframe tbody tr th {\n",
       "        vertical-align: top;\n",
       "    }\n",
       "\n",
       "    .dataframe thead th {\n",
       "        text-align: right;\n",
       "    }\n",
       "</style>\n",
       "<table border=\"1\" class=\"dataframe\">\n",
       "  <thead>\n",
       "    <tr style=\"text-align: right;\">\n",
       "      <th></th>\n",
       "      <th>PassengerId</th>\n",
       "      <th>Survived</th>\n",
       "      <th>Pclass</th>\n",
       "      <th>Name</th>\n",
       "      <th>Sex</th>\n",
       "      <th>Age</th>\n",
       "      <th>SibSp</th>\n",
       "      <th>Parch</th>\n",
       "      <th>Ticket</th>\n",
       "      <th>Fare</th>\n",
       "      <th>Cabin</th>\n",
       "      <th>Embarked</th>\n",
       "    </tr>\n",
       "    <tr>\n",
       "      <th>PassengerId</th>\n",
       "      <th></th>\n",
       "      <th></th>\n",
       "      <th></th>\n",
       "      <th></th>\n",
       "      <th></th>\n",
       "      <th></th>\n",
       "      <th></th>\n",
       "      <th></th>\n",
       "      <th></th>\n",
       "      <th></th>\n",
       "      <th></th>\n",
       "      <th></th>\n",
       "    </tr>\n",
       "  </thead>\n",
       "  <tbody>\n",
       "    <tr>\n",
       "      <th>1</th>\n",
       "      <td>1</td>\n",
       "      <td>0</td>\n",
       "      <td>3</td>\n",
       "      <td>Braund, Mr. Owen Harris</td>\n",
       "      <td>male</td>\n",
       "      <td>22.0</td>\n",
       "      <td>1</td>\n",
       "      <td>0</td>\n",
       "      <td>A/5 21171</td>\n",
       "      <td>7.2500</td>\n",
       "      <td>NaN</td>\n",
       "      <td>S</td>\n",
       "    </tr>\n",
       "    <tr>\n",
       "      <th>2</th>\n",
       "      <td>2</td>\n",
       "      <td>1</td>\n",
       "      <td>1</td>\n",
       "      <td>Cumings, Mrs. John Bradley (Florence Briggs Th...</td>\n",
       "      <td>female</td>\n",
       "      <td>38.0</td>\n",
       "      <td>1</td>\n",
       "      <td>0</td>\n",
       "      <td>PC 17599</td>\n",
       "      <td>71.2833</td>\n",
       "      <td>C85</td>\n",
       "      <td>C</td>\n",
       "    </tr>\n",
       "    <tr>\n",
       "      <th>3</th>\n",
       "      <td>3</td>\n",
       "      <td>1</td>\n",
       "      <td>3</td>\n",
       "      <td>Heikkinen, Miss. Laina</td>\n",
       "      <td>female</td>\n",
       "      <td>26.0</td>\n",
       "      <td>0</td>\n",
       "      <td>0</td>\n",
       "      <td>STON/O2. 3101282</td>\n",
       "      <td>7.9250</td>\n",
       "      <td>NaN</td>\n",
       "      <td>S</td>\n",
       "    </tr>\n",
       "    <tr>\n",
       "      <th>4</th>\n",
       "      <td>4</td>\n",
       "      <td>1</td>\n",
       "      <td>1</td>\n",
       "      <td>Futrelle, Mrs. Jacques Heath (Lily May Peel)</td>\n",
       "      <td>female</td>\n",
       "      <td>35.0</td>\n",
       "      <td>1</td>\n",
       "      <td>0</td>\n",
       "      <td>113803</td>\n",
       "      <td>53.1000</td>\n",
       "      <td>C123</td>\n",
       "      <td>S</td>\n",
       "    </tr>\n",
       "    <tr>\n",
       "      <th>5</th>\n",
       "      <td>5</td>\n",
       "      <td>0</td>\n",
       "      <td>3</td>\n",
       "      <td>Allen, Mr. William Henry</td>\n",
       "      <td>male</td>\n",
       "      <td>35.0</td>\n",
       "      <td>0</td>\n",
       "      <td>0</td>\n",
       "      <td>373450</td>\n",
       "      <td>8.0500</td>\n",
       "      <td>NaN</td>\n",
       "      <td>S</td>\n",
       "    </tr>\n",
       "    <tr>\n",
       "      <th>...</th>\n",
       "      <td>...</td>\n",
       "      <td>...</td>\n",
       "      <td>...</td>\n",
       "      <td>...</td>\n",
       "      <td>...</td>\n",
       "      <td>...</td>\n",
       "      <td>...</td>\n",
       "      <td>...</td>\n",
       "      <td>...</td>\n",
       "      <td>...</td>\n",
       "      <td>...</td>\n",
       "      <td>...</td>\n",
       "    </tr>\n",
       "    <tr>\n",
       "      <th>887</th>\n",
       "      <td>887</td>\n",
       "      <td>0</td>\n",
       "      <td>2</td>\n",
       "      <td>Montvila, Rev. Juozas</td>\n",
       "      <td>male</td>\n",
       "      <td>27.0</td>\n",
       "      <td>0</td>\n",
       "      <td>0</td>\n",
       "      <td>211536</td>\n",
       "      <td>13.0000</td>\n",
       "      <td>NaN</td>\n",
       "      <td>S</td>\n",
       "    </tr>\n",
       "    <tr>\n",
       "      <th>888</th>\n",
       "      <td>888</td>\n",
       "      <td>1</td>\n",
       "      <td>1</td>\n",
       "      <td>Graham, Miss. Margaret Edith</td>\n",
       "      <td>female</td>\n",
       "      <td>19.0</td>\n",
       "      <td>0</td>\n",
       "      <td>0</td>\n",
       "      <td>112053</td>\n",
       "      <td>30.0000</td>\n",
       "      <td>B42</td>\n",
       "      <td>S</td>\n",
       "    </tr>\n",
       "    <tr>\n",
       "      <th>889</th>\n",
       "      <td>889</td>\n",
       "      <td>0</td>\n",
       "      <td>3</td>\n",
       "      <td>Johnston, Miss. Catherine Helen \"Carrie\"</td>\n",
       "      <td>female</td>\n",
       "      <td>NaN</td>\n",
       "      <td>1</td>\n",
       "      <td>2</td>\n",
       "      <td>W./C. 6607</td>\n",
       "      <td>23.4500</td>\n",
       "      <td>NaN</td>\n",
       "      <td>S</td>\n",
       "    </tr>\n",
       "    <tr>\n",
       "      <th>890</th>\n",
       "      <td>890</td>\n",
       "      <td>1</td>\n",
       "      <td>1</td>\n",
       "      <td>Behr, Mr. Karl Howell</td>\n",
       "      <td>male</td>\n",
       "      <td>26.0</td>\n",
       "      <td>0</td>\n",
       "      <td>0</td>\n",
       "      <td>111369</td>\n",
       "      <td>30.0000</td>\n",
       "      <td>C148</td>\n",
       "      <td>C</td>\n",
       "    </tr>\n",
       "    <tr>\n",
       "      <th>891</th>\n",
       "      <td>891</td>\n",
       "      <td>0</td>\n",
       "      <td>3</td>\n",
       "      <td>Dooley, Mr. Patrick</td>\n",
       "      <td>male</td>\n",
       "      <td>32.0</td>\n",
       "      <td>0</td>\n",
       "      <td>0</td>\n",
       "      <td>370376</td>\n",
       "      <td>7.7500</td>\n",
       "      <td>NaN</td>\n",
       "      <td>Q</td>\n",
       "    </tr>\n",
       "  </tbody>\n",
       "</table>\n",
       "<p>891 rows × 12 columns</p>\n",
       "</div>"
      ],
      "text/plain": [
       "             PassengerId  Survived  Pclass  \\\n",
       "PassengerId                                  \n",
       "1                      1         0       3   \n",
       "2                      2         1       1   \n",
       "3                      3         1       3   \n",
       "4                      4         1       1   \n",
       "5                      5         0       3   \n",
       "...                  ...       ...     ...   \n",
       "887                  887         0       2   \n",
       "888                  888         1       1   \n",
       "889                  889         0       3   \n",
       "890                  890         1       1   \n",
       "891                  891         0       3   \n",
       "\n",
       "                                                          Name     Sex   Age  \\\n",
       "PassengerId                                                                    \n",
       "1                                      Braund, Mr. Owen Harris    male  22.0   \n",
       "2            Cumings, Mrs. John Bradley (Florence Briggs Th...  female  38.0   \n",
       "3                                       Heikkinen, Miss. Laina  female  26.0   \n",
       "4                 Futrelle, Mrs. Jacques Heath (Lily May Peel)  female  35.0   \n",
       "5                                     Allen, Mr. William Henry    male  35.0   \n",
       "...                                                        ...     ...   ...   \n",
       "887                                      Montvila, Rev. Juozas    male  27.0   \n",
       "888                               Graham, Miss. Margaret Edith  female  19.0   \n",
       "889                   Johnston, Miss. Catherine Helen \"Carrie\"  female   NaN   \n",
       "890                                      Behr, Mr. Karl Howell    male  26.0   \n",
       "891                                        Dooley, Mr. Patrick    male  32.0   \n",
       "\n",
       "             SibSp  Parch            Ticket     Fare Cabin Embarked  \n",
       "PassengerId                                                          \n",
       "1                1      0         A/5 21171   7.2500   NaN        S  \n",
       "2                1      0          PC 17599  71.2833   C85        C  \n",
       "3                0      0  STON/O2. 3101282   7.9250   NaN        S  \n",
       "4                1      0            113803  53.1000  C123        S  \n",
       "5                0      0            373450   8.0500   NaN        S  \n",
       "...            ...    ...               ...      ...   ...      ...  \n",
       "887              0      0            211536  13.0000   NaN        S  \n",
       "888              0      0            112053  30.0000   B42        S  \n",
       "889              1      2        W./C. 6607  23.4500   NaN        S  \n",
       "890              0      0            111369  30.0000  C148        C  \n",
       "891              0      0            370376   7.7500   NaN        Q  \n",
       "\n",
       "[891 rows x 12 columns]"
      ]
     },
     "execution_count": 6,
     "metadata": {},
     "output_type": "execute_result"
    }
   ],
   "source": [
    "train_df.set_index(train_df.PassengerId, inplace=True)\n",
    "train_df"
   ]
  },
  {
   "cell_type": "code",
   "execution_count": 7,
   "id": "a81f76583e635948",
   "metadata": {
    "ExecuteTime": {
     "end_time": "2023-09-01T04:04:18.300569Z",
     "start_time": "2023-09-01T04:04:17.827045900Z"
    },
    "collapsed": false
   },
   "outputs": [
    {
     "data": {
      "text/html": [
       "<div>\n",
       "<style scoped>\n",
       "    .dataframe tbody tr th:only-of-type {\n",
       "        vertical-align: middle;\n",
       "    }\n",
       "\n",
       "    .dataframe tbody tr th {\n",
       "        vertical-align: top;\n",
       "    }\n",
       "\n",
       "    .dataframe thead th {\n",
       "        text-align: right;\n",
       "    }\n",
       "</style>\n",
       "<table border=\"1\" class=\"dataframe\">\n",
       "  <thead>\n",
       "    <tr style=\"text-align: right;\">\n",
       "      <th></th>\n",
       "      <th>Survived</th>\n",
       "      <th>Pclass</th>\n",
       "      <th>Name</th>\n",
       "      <th>Sex</th>\n",
       "      <th>Age</th>\n",
       "      <th>SibSp</th>\n",
       "      <th>Parch</th>\n",
       "      <th>Ticket</th>\n",
       "      <th>Fare</th>\n",
       "      <th>Cabin</th>\n",
       "      <th>Embarked</th>\n",
       "    </tr>\n",
       "    <tr>\n",
       "      <th>PassengerId</th>\n",
       "      <th></th>\n",
       "      <th></th>\n",
       "      <th></th>\n",
       "      <th></th>\n",
       "      <th></th>\n",
       "      <th></th>\n",
       "      <th></th>\n",
       "      <th></th>\n",
       "      <th></th>\n",
       "      <th></th>\n",
       "      <th></th>\n",
       "    </tr>\n",
       "  </thead>\n",
       "  <tbody>\n",
       "    <tr>\n",
       "      <th>1</th>\n",
       "      <td>0</td>\n",
       "      <td>3</td>\n",
       "      <td>Braund, Mr. Owen Harris</td>\n",
       "      <td>male</td>\n",
       "      <td>22.0</td>\n",
       "      <td>1</td>\n",
       "      <td>0</td>\n",
       "      <td>A/5 21171</td>\n",
       "      <td>7.2500</td>\n",
       "      <td>NaN</td>\n",
       "      <td>S</td>\n",
       "    </tr>\n",
       "    <tr>\n",
       "      <th>2</th>\n",
       "      <td>1</td>\n",
       "      <td>1</td>\n",
       "      <td>Cumings, Mrs. John Bradley (Florence Briggs Th...</td>\n",
       "      <td>female</td>\n",
       "      <td>38.0</td>\n",
       "      <td>1</td>\n",
       "      <td>0</td>\n",
       "      <td>PC 17599</td>\n",
       "      <td>71.2833</td>\n",
       "      <td>C85</td>\n",
       "      <td>C</td>\n",
       "    </tr>\n",
       "    <tr>\n",
       "      <th>3</th>\n",
       "      <td>1</td>\n",
       "      <td>3</td>\n",
       "      <td>Heikkinen, Miss. Laina</td>\n",
       "      <td>female</td>\n",
       "      <td>26.0</td>\n",
       "      <td>0</td>\n",
       "      <td>0</td>\n",
       "      <td>STON/O2. 3101282</td>\n",
       "      <td>7.9250</td>\n",
       "      <td>NaN</td>\n",
       "      <td>S</td>\n",
       "    </tr>\n",
       "    <tr>\n",
       "      <th>4</th>\n",
       "      <td>1</td>\n",
       "      <td>1</td>\n",
       "      <td>Futrelle, Mrs. Jacques Heath (Lily May Peel)</td>\n",
       "      <td>female</td>\n",
       "      <td>35.0</td>\n",
       "      <td>1</td>\n",
       "      <td>0</td>\n",
       "      <td>113803</td>\n",
       "      <td>53.1000</td>\n",
       "      <td>C123</td>\n",
       "      <td>S</td>\n",
       "    </tr>\n",
       "    <tr>\n",
       "      <th>5</th>\n",
       "      <td>0</td>\n",
       "      <td>3</td>\n",
       "      <td>Allen, Mr. William Henry</td>\n",
       "      <td>male</td>\n",
       "      <td>35.0</td>\n",
       "      <td>0</td>\n",
       "      <td>0</td>\n",
       "      <td>373450</td>\n",
       "      <td>8.0500</td>\n",
       "      <td>NaN</td>\n",
       "      <td>S</td>\n",
       "    </tr>\n",
       "    <tr>\n",
       "      <th>...</th>\n",
       "      <td>...</td>\n",
       "      <td>...</td>\n",
       "      <td>...</td>\n",
       "      <td>...</td>\n",
       "      <td>...</td>\n",
       "      <td>...</td>\n",
       "      <td>...</td>\n",
       "      <td>...</td>\n",
       "      <td>...</td>\n",
       "      <td>...</td>\n",
       "      <td>...</td>\n",
       "    </tr>\n",
       "    <tr>\n",
       "      <th>887</th>\n",
       "      <td>0</td>\n",
       "      <td>2</td>\n",
       "      <td>Montvila, Rev. Juozas</td>\n",
       "      <td>male</td>\n",
       "      <td>27.0</td>\n",
       "      <td>0</td>\n",
       "      <td>0</td>\n",
       "      <td>211536</td>\n",
       "      <td>13.0000</td>\n",
       "      <td>NaN</td>\n",
       "      <td>S</td>\n",
       "    </tr>\n",
       "    <tr>\n",
       "      <th>888</th>\n",
       "      <td>1</td>\n",
       "      <td>1</td>\n",
       "      <td>Graham, Miss. Margaret Edith</td>\n",
       "      <td>female</td>\n",
       "      <td>19.0</td>\n",
       "      <td>0</td>\n",
       "      <td>0</td>\n",
       "      <td>112053</td>\n",
       "      <td>30.0000</td>\n",
       "      <td>B42</td>\n",
       "      <td>S</td>\n",
       "    </tr>\n",
       "    <tr>\n",
       "      <th>889</th>\n",
       "      <td>0</td>\n",
       "      <td>3</td>\n",
       "      <td>Johnston, Miss. Catherine Helen \"Carrie\"</td>\n",
       "      <td>female</td>\n",
       "      <td>NaN</td>\n",
       "      <td>1</td>\n",
       "      <td>2</td>\n",
       "      <td>W./C. 6607</td>\n",
       "      <td>23.4500</td>\n",
       "      <td>NaN</td>\n",
       "      <td>S</td>\n",
       "    </tr>\n",
       "    <tr>\n",
       "      <th>890</th>\n",
       "      <td>1</td>\n",
       "      <td>1</td>\n",
       "      <td>Behr, Mr. Karl Howell</td>\n",
       "      <td>male</td>\n",
       "      <td>26.0</td>\n",
       "      <td>0</td>\n",
       "      <td>0</td>\n",
       "      <td>111369</td>\n",
       "      <td>30.0000</td>\n",
       "      <td>C148</td>\n",
       "      <td>C</td>\n",
       "    </tr>\n",
       "    <tr>\n",
       "      <th>891</th>\n",
       "      <td>0</td>\n",
       "      <td>3</td>\n",
       "      <td>Dooley, Mr. Patrick</td>\n",
       "      <td>male</td>\n",
       "      <td>32.0</td>\n",
       "      <td>0</td>\n",
       "      <td>0</td>\n",
       "      <td>370376</td>\n",
       "      <td>7.7500</td>\n",
       "      <td>NaN</td>\n",
       "      <td>Q</td>\n",
       "    </tr>\n",
       "  </tbody>\n",
       "</table>\n",
       "<p>891 rows × 11 columns</p>\n",
       "</div>"
      ],
      "text/plain": [
       "             Survived  Pclass  \\\n",
       "PassengerId                     \n",
       "1                   0       3   \n",
       "2                   1       1   \n",
       "3                   1       3   \n",
       "4                   1       1   \n",
       "5                   0       3   \n",
       "...               ...     ...   \n",
       "887                 0       2   \n",
       "888                 1       1   \n",
       "889                 0       3   \n",
       "890                 1       1   \n",
       "891                 0       3   \n",
       "\n",
       "                                                          Name     Sex   Age  \\\n",
       "PassengerId                                                                    \n",
       "1                                      Braund, Mr. Owen Harris    male  22.0   \n",
       "2            Cumings, Mrs. John Bradley (Florence Briggs Th...  female  38.0   \n",
       "3                                       Heikkinen, Miss. Laina  female  26.0   \n",
       "4                 Futrelle, Mrs. Jacques Heath (Lily May Peel)  female  35.0   \n",
       "5                                     Allen, Mr. William Henry    male  35.0   \n",
       "...                                                        ...     ...   ...   \n",
       "887                                      Montvila, Rev. Juozas    male  27.0   \n",
       "888                               Graham, Miss. Margaret Edith  female  19.0   \n",
       "889                   Johnston, Miss. Catherine Helen \"Carrie\"  female   NaN   \n",
       "890                                      Behr, Mr. Karl Howell    male  26.0   \n",
       "891                                        Dooley, Mr. Patrick    male  32.0   \n",
       "\n",
       "             SibSp  Parch            Ticket     Fare Cabin Embarked  \n",
       "PassengerId                                                          \n",
       "1                1      0         A/5 21171   7.2500   NaN        S  \n",
       "2                1      0          PC 17599  71.2833   C85        C  \n",
       "3                0      0  STON/O2. 3101282   7.9250   NaN        S  \n",
       "4                1      0            113803  53.1000  C123        S  \n",
       "5                0      0            373450   8.0500   NaN        S  \n",
       "...            ...    ...               ...      ...   ...      ...  \n",
       "887              0      0            211536  13.0000   NaN        S  \n",
       "888              0      0            112053  30.0000   B42        S  \n",
       "889              1      2        W./C. 6607  23.4500   NaN        S  \n",
       "890              0      0            111369  30.0000  C148        C  \n",
       "891              0      0            370376   7.7500   NaN        Q  \n",
       "\n",
       "[891 rows x 11 columns]"
      ]
     },
     "execution_count": 7,
     "metadata": {},
     "output_type": "execute_result"
    }
   ],
   "source": [
    "train_df.drop(columns='PassengerId', axis=1 , inplace=True)\n",
    "train_df"
   ]
  },
  {
   "cell_type": "code",
   "execution_count": 8,
   "id": "bbdc340da5208cb8",
   "metadata": {
    "ExecuteTime": {
     "end_time": "2023-09-01T04:04:18.336640300Z",
     "start_time": "2023-09-01T04:04:17.843871200Z"
    },
    "collapsed": false
   },
   "outputs": [
    {
     "data": {
      "text/html": [
       "<div>\n",
       "<style scoped>\n",
       "    .dataframe tbody tr th:only-of-type {\n",
       "        vertical-align: middle;\n",
       "    }\n",
       "\n",
       "    .dataframe tbody tr th {\n",
       "        vertical-align: top;\n",
       "    }\n",
       "\n",
       "    .dataframe thead th {\n",
       "        text-align: right;\n",
       "    }\n",
       "</style>\n",
       "<table border=\"1\" class=\"dataframe\">\n",
       "  <thead>\n",
       "    <tr style=\"text-align: right;\">\n",
       "      <th></th>\n",
       "      <th>Pclass</th>\n",
       "      <th>Name</th>\n",
       "      <th>Sex</th>\n",
       "      <th>Age</th>\n",
       "      <th>SibSp</th>\n",
       "      <th>Parch</th>\n",
       "      <th>Ticket</th>\n",
       "      <th>Fare</th>\n",
       "      <th>Cabin</th>\n",
       "      <th>Embarked</th>\n",
       "    </tr>\n",
       "    <tr>\n",
       "      <th>PassengerId</th>\n",
       "      <th></th>\n",
       "      <th></th>\n",
       "      <th></th>\n",
       "      <th></th>\n",
       "      <th></th>\n",
       "      <th></th>\n",
       "      <th></th>\n",
       "      <th></th>\n",
       "      <th></th>\n",
       "      <th></th>\n",
       "    </tr>\n",
       "  </thead>\n",
       "  <tbody>\n",
       "    <tr>\n",
       "      <th>1305</th>\n",
       "      <td>3</td>\n",
       "      <td>Spector, Mr. Woolf</td>\n",
       "      <td>male</td>\n",
       "      <td>NaN</td>\n",
       "      <td>0</td>\n",
       "      <td>0</td>\n",
       "      <td>A.5. 3236</td>\n",
       "      <td>8.0500</td>\n",
       "      <td>NaN</td>\n",
       "      <td>S</td>\n",
       "    </tr>\n",
       "    <tr>\n",
       "      <th>1306</th>\n",
       "      <td>1</td>\n",
       "      <td>Oliva y Ocana, Dona. Fermina</td>\n",
       "      <td>female</td>\n",
       "      <td>39.0</td>\n",
       "      <td>0</td>\n",
       "      <td>0</td>\n",
       "      <td>PC 17758</td>\n",
       "      <td>108.9000</td>\n",
       "      <td>C105</td>\n",
       "      <td>C</td>\n",
       "    </tr>\n",
       "    <tr>\n",
       "      <th>1307</th>\n",
       "      <td>3</td>\n",
       "      <td>Saether, Mr. Simon Sivertsen</td>\n",
       "      <td>male</td>\n",
       "      <td>38.5</td>\n",
       "      <td>0</td>\n",
       "      <td>0</td>\n",
       "      <td>SOTON/O.Q. 3101262</td>\n",
       "      <td>7.2500</td>\n",
       "      <td>NaN</td>\n",
       "      <td>S</td>\n",
       "    </tr>\n",
       "    <tr>\n",
       "      <th>1308</th>\n",
       "      <td>3</td>\n",
       "      <td>Ware, Mr. Frederick</td>\n",
       "      <td>male</td>\n",
       "      <td>NaN</td>\n",
       "      <td>0</td>\n",
       "      <td>0</td>\n",
       "      <td>359309</td>\n",
       "      <td>8.0500</td>\n",
       "      <td>NaN</td>\n",
       "      <td>S</td>\n",
       "    </tr>\n",
       "    <tr>\n",
       "      <th>1309</th>\n",
       "      <td>3</td>\n",
       "      <td>Peter, Master. Michael J</td>\n",
       "      <td>male</td>\n",
       "      <td>NaN</td>\n",
       "      <td>1</td>\n",
       "      <td>1</td>\n",
       "      <td>2668</td>\n",
       "      <td>22.3583</td>\n",
       "      <td>NaN</td>\n",
       "      <td>C</td>\n",
       "    </tr>\n",
       "  </tbody>\n",
       "</table>\n",
       "</div>"
      ],
      "text/plain": [
       "             Pclass                          Name     Sex   Age  SibSp  Parch  \\\n",
       "PassengerId                                                                     \n",
       "1305              3            Spector, Mr. Woolf    male   NaN      0      0   \n",
       "1306              1  Oliva y Ocana, Dona. Fermina  female  39.0      0      0   \n",
       "1307              3  Saether, Mr. Simon Sivertsen    male  38.5      0      0   \n",
       "1308              3           Ware, Mr. Frederick    male   NaN      0      0   \n",
       "1309              3      Peter, Master. Michael J    male   NaN      1      1   \n",
       "\n",
       "                         Ticket      Fare Cabin Embarked  \n",
       "PassengerId                                               \n",
       "1305                  A.5. 3236    8.0500   NaN        S  \n",
       "1306                   PC 17758  108.9000  C105        C  \n",
       "1307         SOTON/O.Q. 3101262    7.2500   NaN        S  \n",
       "1308                     359309    8.0500   NaN        S  \n",
       "1309                       2668   22.3583   NaN        C  "
      ]
     },
     "execution_count": 8,
     "metadata": {},
     "output_type": "execute_result"
    }
   ],
   "source": [
    "test_df = pd.read_csv('./data/test.csv', index_col='PassengerId')\n",
    "test_df.tail()\n"
   ]
  },
  {
   "cell_type": "code",
   "execution_count": 9,
   "id": "32a9a74a4c20dff3",
   "metadata": {
    "ExecuteTime": {
     "end_time": "2023-09-01T04:04:18.394933100Z",
     "start_time": "2023-09-01T04:04:17.857168400Z"
    },
    "collapsed": false
   },
   "outputs": [
    {
     "name": "stdout",
     "output_type": "stream",
     "text": [
      "<class 'pandas.core.frame.DataFrame'>\n",
      "Int64Index: 891 entries, 1 to 891\n",
      "Data columns (total 11 columns):\n",
      " #   Column    Non-Null Count  Dtype  \n",
      "---  ------    --------------  -----  \n",
      " 0   Survived  891 non-null    int64  \n",
      " 1   Pclass    891 non-null    int64  \n",
      " 2   Name      891 non-null    object \n",
      " 3   Sex       891 non-null    object \n",
      " 4   Age       714 non-null    float64\n",
      " 5   SibSp     891 non-null    int64  \n",
      " 6   Parch     891 non-null    int64  \n",
      " 7   Ticket    891 non-null    object \n",
      " 8   Fare      891 non-null    float64\n",
      " 9   Cabin     204 non-null    object \n",
      " 10  Embarked  889 non-null    object \n",
      "dtypes: float64(2), int64(4), object(5)\n",
      "memory usage: 83.5+ KB\n"
     ]
    }
   ],
   "source": [
    "train_df.info()"
   ]
  },
  {
   "cell_type": "code",
   "execution_count": 10,
   "id": "f33da2e5199cd7a7",
   "metadata": {
    "ExecuteTime": {
     "end_time": "2023-09-01T04:04:18.420216800Z",
     "start_time": "2023-09-01T04:04:17.880480200Z"
    },
    "collapsed": false
   },
   "outputs": [
    {
     "name": "stdout",
     "output_type": "stream",
     "text": [
      "<class 'pandas.core.frame.DataFrame'>\n",
      "Int64Index: 418 entries, 892 to 1309\n",
      "Data columns (total 10 columns):\n",
      " #   Column    Non-Null Count  Dtype  \n",
      "---  ------    --------------  -----  \n",
      " 0   Pclass    418 non-null    int64  \n",
      " 1   Name      418 non-null    object \n",
      " 2   Sex       418 non-null    object \n",
      " 3   Age       332 non-null    float64\n",
      " 4   SibSp     418 non-null    int64  \n",
      " 5   Parch     418 non-null    int64  \n",
      " 6   Ticket    418 non-null    object \n",
      " 7   Fare      417 non-null    float64\n",
      " 8   Cabin     91 non-null     object \n",
      " 9   Embarked  418 non-null    object \n",
      "dtypes: float64(2), int64(3), object(5)\n",
      "memory usage: 35.9+ KB\n"
     ]
    }
   ],
   "source": [
    "test_df.info()"
   ]
  },
  {
   "cell_type": "markdown",
   "id": "1c70aaf40e45ffa7",
   "metadata": {
    "collapsed": false
   },
   "source": [
    "#### Summary\n",
    "- Categorical : `Survived`, `Sex`, `Embarked`, `Pclass`, `Parch`, `SibSp`\n",
    "- Numerical:  `Age`(continuous), `Fare`(discrete)\n",
    "- Mix type of data: `Ticket`, `Cabin`\n",
    "- Contain Error/typo: `Name`\n",
    "- Blank or Null: `Cabin`> `Age` > `Embarked`\n",
    "- Various Data Type: String, Int, Float\n",
    "\n",
    "<p>According to the data dictionary, we know that if a Survived is marked as 1, he or she surivied. Clearly the number 1 or 0 is a flag for the person's survivorship. Yet the data type of the columns is int64, which is a numerical type. We can change that with the following command.</p>"
   ]
  },
  {
   "cell_type": "code",
   "execution_count": 11,
   "id": "34d341c13926346e",
   "metadata": {
    "ExecuteTime": {
     "end_time": "2023-09-01T04:04:18.431215800Z",
     "start_time": "2023-09-01T04:04:17.890477300Z"
    },
    "collapsed": false
   },
   "outputs": [],
   "source": [
    "key_args ={\n",
    "    'Sex': \"category\",\n",
    "    'Embarked': \"category\",\n",
    "    'Pclass': \"category\",\n",
    "    'Parch': \"category\",\n",
    "    'SibSp': \"category\"\n",
    "}\n",
    "train_df = train_df.astype(key_args)\n",
    "train_df = train_df.astype({\"Survived\": 'category'})\n",
    "test_df = test_df.astype(key_args)"
   ]
  },
  {
   "cell_type": "code",
   "execution_count": 12,
   "id": "27ac4aa4540b26e8",
   "metadata": {
    "ExecuteTime": {
     "end_time": "2023-09-01T04:04:18.432216300Z",
     "start_time": "2023-09-01T04:04:17.906477200Z"
    },
    "collapsed": false
   },
   "outputs": [
    {
     "data": {
      "text/html": [
       "<div>\n",
       "<style scoped>\n",
       "    .dataframe tbody tr th:only-of-type {\n",
       "        vertical-align: middle;\n",
       "    }\n",
       "\n",
       "    .dataframe tbody tr th {\n",
       "        vertical-align: top;\n",
       "    }\n",
       "\n",
       "    .dataframe thead th {\n",
       "        text-align: right;\n",
       "    }\n",
       "</style>\n",
       "<table border=\"1\" class=\"dataframe\">\n",
       "  <thead>\n",
       "    <tr style=\"text-align: right;\">\n",
       "      <th></th>\n",
       "      <th>Age</th>\n",
       "      <th>Cabin</th>\n",
       "      <th>Embarked</th>\n",
       "      <th>Fare</th>\n",
       "      <th>Name</th>\n",
       "      <th>Parch</th>\n",
       "      <th>Pclass</th>\n",
       "      <th>Sex</th>\n",
       "      <th>SibSp</th>\n",
       "      <th>Survived</th>\n",
       "      <th>Ticket</th>\n",
       "    </tr>\n",
       "  </thead>\n",
       "  <tbody>\n",
       "    <tr>\n",
       "      <th>train</th>\n",
       "      <td>float64</td>\n",
       "      <td>object</td>\n",
       "      <td>category</td>\n",
       "      <td>float64</td>\n",
       "      <td>object</td>\n",
       "      <td>category</td>\n",
       "      <td>category</td>\n",
       "      <td>category</td>\n",
       "      <td>category</td>\n",
       "      <td>category</td>\n",
       "      <td>object</td>\n",
       "    </tr>\n",
       "    <tr>\n",
       "      <th>test</th>\n",
       "      <td>float64</td>\n",
       "      <td>object</td>\n",
       "      <td>category</td>\n",
       "      <td>float64</td>\n",
       "      <td>object</td>\n",
       "      <td>category</td>\n",
       "      <td>category</td>\n",
       "      <td>category</td>\n",
       "      <td>category</td>\n",
       "      <td>NaN</td>\n",
       "      <td>object</td>\n",
       "    </tr>\n",
       "  </tbody>\n",
       "</table>\n",
       "</div>"
      ],
      "text/plain": [
       "           Age   Cabin  Embarked     Fare    Name     Parch    Pclass  \\\n",
       "train  float64  object  category  float64  object  category  category   \n",
       "test   float64  object  category  float64  object  category  category   \n",
       "\n",
       "            Sex     SibSp  Survived  Ticket  \n",
       "train  category  category  category  object  \n",
       "test   category  category       NaN  object  "
      ]
     },
     "execution_count": 12,
     "metadata": {},
     "output_type": "execute_result"
    }
   ],
   "source": [
    "type_data= pd.DataFrame(\n",
    "    {\n",
    "        \"train\": train_df.dtypes,\n",
    "        \"test\": test_df.dtypes\n",
    "        \n",
    "    }).T\n",
    "type_data"
   ]
  },
  {
   "cell_type": "markdown",
   "id": "347851558a5006cb",
   "metadata": {
    "collapsed": false
   },
   "source": [
    "## Distribution of Numerical features across the sample"
   ]
  },
  {
   "cell_type": "code",
   "execution_count": 13,
   "id": "c3ec7e36aa397d7d",
   "metadata": {
    "ExecuteTime": {
     "end_time": "2023-09-01T04:04:18.432216300Z",
     "start_time": "2023-09-01T04:04:17.922478900Z"
    },
    "collapsed": false
   },
   "outputs": [
    {
     "data": {
      "text/html": [
       "<div>\n",
       "<style scoped>\n",
       "    .dataframe tbody tr th:only-of-type {\n",
       "        vertical-align: middle;\n",
       "    }\n",
       "\n",
       "    .dataframe tbody tr th {\n",
       "        vertical-align: top;\n",
       "    }\n",
       "\n",
       "    .dataframe thead th {\n",
       "        text-align: right;\n",
       "    }\n",
       "</style>\n",
       "<table border=\"1\" class=\"dataframe\">\n",
       "  <thead>\n",
       "    <tr style=\"text-align: right;\">\n",
       "      <th></th>\n",
       "      <th>count</th>\n",
       "      <th>mean</th>\n",
       "      <th>std</th>\n",
       "      <th>min</th>\n",
       "      <th>25%</th>\n",
       "      <th>50%</th>\n",
       "      <th>75%</th>\n",
       "      <th>max</th>\n",
       "    </tr>\n",
       "  </thead>\n",
       "  <tbody>\n",
       "    <tr>\n",
       "      <th>Age</th>\n",
       "      <td>714.0</td>\n",
       "      <td>29.699118</td>\n",
       "      <td>14.526497</td>\n",
       "      <td>0.42</td>\n",
       "      <td>20.1250</td>\n",
       "      <td>28.0000</td>\n",
       "      <td>38.0</td>\n",
       "      <td>80.0000</td>\n",
       "    </tr>\n",
       "    <tr>\n",
       "      <th>Fare</th>\n",
       "      <td>891.0</td>\n",
       "      <td>32.204208</td>\n",
       "      <td>49.693429</td>\n",
       "      <td>0.00</td>\n",
       "      <td>7.9104</td>\n",
       "      <td>14.4542</td>\n",
       "      <td>31.0</td>\n",
       "      <td>512.3292</td>\n",
       "    </tr>\n",
       "  </tbody>\n",
       "</table>\n",
       "</div>"
      ],
      "text/plain": [
       "      count       mean        std   min      25%      50%   75%       max\n",
       "Age   714.0  29.699118  14.526497  0.42  20.1250  28.0000  38.0   80.0000\n",
       "Fare  891.0  32.204208  49.693429  0.00   7.9104  14.4542  31.0  512.3292"
      ]
     },
     "execution_count": 13,
     "metadata": {},
     "output_type": "execute_result"
    }
   ],
   "source": [
    "train_df.describe().T"
   ]
  },
  {
   "cell_type": "markdown",
   "id": "7808b2615f825d03",
   "metadata": {
    "collapsed": false
   },
   "source": [
    "## Distribution of Category feature"
   ]
  },
  {
   "cell_type": "code",
   "execution_count": 14,
   "id": "1adc5bb90bc5deee",
   "metadata": {
    "ExecuteTime": {
     "end_time": "2023-09-01T04:04:18.432216300Z",
     "start_time": "2023-09-01T04:04:17.953477100Z"
    },
    "collapsed": false
   },
   "outputs": [
    {
     "data": {
      "text/html": [
       "<div>\n",
       "<style scoped>\n",
       "    .dataframe tbody tr th:only-of-type {\n",
       "        vertical-align: middle;\n",
       "    }\n",
       "\n",
       "    .dataframe tbody tr th {\n",
       "        vertical-align: top;\n",
       "    }\n",
       "\n",
       "    .dataframe thead th {\n",
       "        text-align: right;\n",
       "    }\n",
       "</style>\n",
       "<table border=\"1\" class=\"dataframe\">\n",
       "  <thead>\n",
       "    <tr style=\"text-align: right;\">\n",
       "      <th></th>\n",
       "      <th>Survived</th>\n",
       "      <th>Pclass</th>\n",
       "      <th>Sex</th>\n",
       "      <th>SibSp</th>\n",
       "      <th>Parch</th>\n",
       "      <th>Embarked</th>\n",
       "    </tr>\n",
       "  </thead>\n",
       "  <tbody>\n",
       "    <tr>\n",
       "      <th>count</th>\n",
       "      <td>891</td>\n",
       "      <td>891</td>\n",
       "      <td>891</td>\n",
       "      <td>891</td>\n",
       "      <td>891</td>\n",
       "      <td>889</td>\n",
       "    </tr>\n",
       "    <tr>\n",
       "      <th>unique</th>\n",
       "      <td>2</td>\n",
       "      <td>3</td>\n",
       "      <td>2</td>\n",
       "      <td>7</td>\n",
       "      <td>7</td>\n",
       "      <td>3</td>\n",
       "    </tr>\n",
       "    <tr>\n",
       "      <th>top</th>\n",
       "      <td>0</td>\n",
       "      <td>3</td>\n",
       "      <td>male</td>\n",
       "      <td>0</td>\n",
       "      <td>0</td>\n",
       "      <td>S</td>\n",
       "    </tr>\n",
       "    <tr>\n",
       "      <th>freq</th>\n",
       "      <td>549</td>\n",
       "      <td>491</td>\n",
       "      <td>577</td>\n",
       "      <td>608</td>\n",
       "      <td>678</td>\n",
       "      <td>644</td>\n",
       "    </tr>\n",
       "  </tbody>\n",
       "</table>\n",
       "</div>"
      ],
      "text/plain": [
       "        Survived  Pclass   Sex  SibSp  Parch Embarked\n",
       "count        891     891   891    891    891      889\n",
       "unique         2       3     2      7      7        3\n",
       "top            0       3  male      0      0        S\n",
       "freq         549     491   577    608    678      644"
      ]
     },
     "execution_count": 14,
     "metadata": {},
     "output_type": "execute_result"
    }
   ],
   "source": [
    "train_df.describe(include=['category'])"
   ]
  },
  {
   "cell_type": "markdown",
   "id": "93f396168f0ee04a",
   "metadata": {
    "collapsed": false
   },
   "source": [
    "## Exploratory Data Analysis (EDA)\n",
    "#### Correlating categorical feature\n",
    "- Category: `Survived`, `Pclass`, `Sex`, `SibSp`, `Parch`, `Embarked` "
   ]
  },
  {
   "cell_type": "markdown",
   "id": "d984ad0583f567f9",
   "metadata": {
    "collapsed": false
   },
   "source": [
    "### Target Variable: `Survived`"
   ]
  },
  {
   "cell_type": "code",
   "execution_count": 15,
   "id": "5d058fe4d71ac5b5",
   "metadata": {
    "ExecuteTime": {
     "end_time": "2023-09-01T04:04:18.433216200Z",
     "start_time": "2023-09-01T04:04:17.971478600Z"
    },
    "collapsed": false
   },
   "outputs": [
    {
     "data": {
      "text/plain": [
       "0    549\n",
       "1    342\n",
       "Name: Survived, dtype: int64"
      ]
     },
     "execution_count": 15,
     "metadata": {},
     "output_type": "execute_result"
    }
   ],
   "source": [
    "train_df['Survived'].value_counts()"
   ]
  },
  {
   "cell_type": "code",
   "execution_count": 16,
   "id": "8327663d5b824ad2",
   "metadata": {
    "ExecuteTime": {
     "end_time": "2023-09-01T04:04:18.433216200Z",
     "start_time": "2023-09-01T04:04:17.985482600Z"
    },
    "collapsed": false
   },
   "outputs": [
    {
     "data": {
      "text/plain": [
       "0    0.616162\n",
       "1    0.383838\n",
       "Name: Survived, dtype: float64"
      ]
     },
     "execution_count": 16,
     "metadata": {},
     "output_type": "execute_result"
    }
   ],
   "source": [
    "train_df['Survived'].value_counts(normalize=True)"
   ]
  },
  {
   "cell_type": "markdown",
   "id": "4637cc9317a446f",
   "metadata": {
    "collapsed": false
   },
   "source": [
    "`Sex`"
   ]
  },
  {
   "cell_type": "code",
   "execution_count": 17,
   "id": "4a04c9f342ff3fb7",
   "metadata": {
    "ExecuteTime": {
     "end_time": "2023-09-01T04:04:18.433216200Z",
     "start_time": "2023-09-01T04:04:18.000972900Z"
    },
    "collapsed": false
   },
   "outputs": [
    {
     "data": {
      "text/plain": [
       "male      577\n",
       "female    314\n",
       "Name: Sex, dtype: int64"
      ]
     },
     "execution_count": 17,
     "metadata": {},
     "output_type": "execute_result"
    }
   ],
   "source": [
    "train_df['Sex'].value_counts()"
   ]
  },
  {
   "cell_type": "code",
   "execution_count": 18,
   "id": "f295cd25b7086aaf",
   "metadata": {
    "ExecuteTime": {
     "end_time": "2023-09-01T04:04:18.433216200Z",
     "start_time": "2023-09-01T04:04:18.015189600Z"
    },
    "collapsed": false
   },
   "outputs": [
    {
     "data": {
      "text/plain": [
       "<Axes: xlabel='Sex', ylabel='count'>"
      ]
     },
     "execution_count": 18,
     "metadata": {},
     "output_type": "execute_result"
    },
    {
     "data": {
      "image/png": "[encoded data removed]",
      "text/plain": [
       "<Figure size 640x480 with 1 Axes>"
      ]
     },
     "metadata": {},
     "output_type": "display_data"
    }
   ],
   "source": [
    "sns.countplot(data=train_df, x='Sex', hue=\"Survived\")"
   ]
  },
  {
   "cell_type": "markdown",
   "id": "d76fa7ac9f4a5312",
   "metadata": {
    "collapsed": false
   },
   "source": [
    "- Remaining Categorical Feature Columns"
   ]
  },
  {
   "cell_type": "code",
   "execution_count": 19,
   "id": "368ba605200cb5c5",
   "metadata": {
    "ExecuteTime": {
     "end_time": "2023-09-01T04:04:18.915076900Z",
     "start_time": "2023-09-01T04:04:18.112001600Z"
    },
    "collapsed": false
   },
   "outputs": [
    {
     "data": {
      "image/png": "[encoded data removed]",
      "text/plain": [
       "<Figure size 2000x1200 with 5 Axes>"
      ]
     },
     "metadata": {},
     "output_type": "display_data"
    }
   ],
   "source": [
    "category_cols = ['Sex', 'Embarked', 'Parch', 'SibSp', 'Pclass']\n",
    "plt.figure(figsize=(20, 12))\n",
    "for index, feat in enumerate(category_cols):\n",
    "    plt.subplot(2, 3, index+1)\n",
    "    sns.countplot(data=train_df, x=train_df[feat], hue=\"Survived\", palette=\"Blues\")\n",
    "    plt.title(f'Figure {index+1}: Survived rate vs {category_cols[index]}', fontsize=\"20\")\n",
    "    plt.xlabel(xlabel=category_cols[index], fontsize='18')\n",
    "    plt.xticks(fontsize='14', rotation=40)\n",
    "    plt.ylabel(ylabel=\"Survived\", fontsize='18')\n",
    "    plt.yticks(fontsize='14')\n",
    "    plt.legend(title=\"\", loc='upper right', labels=['Not Survived', 'Survived'], fontsize='16')\n",
    "    \n",
    "    \n",
    "plt.tight_layout()"
   ]
  },
  {
   "cell_type": "markdown",
   "id": "d9ae2e7dee87708a",
   "metadata": {
    "collapsed": false
   },
   "source": [
    "### Observation\n",
    "* **Survival Rate**:\n",
    "    - Fig 1 : Female survival rate more than Male\n",
    "    - Fig 2 : Most People embarked on Southampton, and also had the highest people not survived\n",
    "    - Fig 3 : 1st class higher survival rate\n",
    "    - Fig 4 : People going with 0 `SibSp` are mostly not survived. The number of passenger with 1-2 family members has a better chance of survival\n",
    "    - Fig 5 : People going with 0 `Parch` are survived"
   ]
  },
  {
   "cell_type": "markdown",
   "id": "985964a45449c2c5",
   "metadata": {
    "collapsed": false
   },
   "source": [
    "## EDA for Numerical Features\n",
    "- Numerical Features: `Age`(continuous), `Fare`(discrete)\n",
    "### Age"
   ]
  },
  {
   "cell_type": "code",
   "execution_count": 20,
   "id": "f12b56aff84b811f",
   "metadata": {
    "ExecuteTime": {
     "end_time": "2023-09-01T04:04:19.545819800Z",
     "start_time": "2023-09-01T04:04:18.704354300Z"
    },
    "collapsed": false
   },
   "outputs": [
    {
     "data": {
      "text/plain": [
       "<matplotlib.legend.Legend at 0x178e3e9ea70>"
      ]
     },
     "execution_count": 20,
     "metadata": {},
     "output_type": "execute_result"
    },
    {
     "data": {
      "image/png": "[encoded data removed]",
      "text/plain": [
       "<Figure size 2000x600 with 1 Axes>"
      ]
     },
     "metadata": {},
     "output_type": "display_data"
    }
   ],
   "source": [
    "plt.figure(figsize=(20,6))\n",
    "sns.histplot(data=train_df, x='Age', bins=40, kde=True, hue='Survived')\n",
    "plt.legend(title=\"\", labels=['Not survived', 'Survived'], fontsize=\"16\")\n"
   ]
  },
  {
   "cell_type": "markdown",
   "id": "fa9ba5c77783e82d",
   "metadata": {
    "collapsed": false
   },
   "source": [
    "- Majority passengers were from 18-40 ages\n",
    "- Children had more chance to survived than other ages"
   ]
  },
  {
   "cell_type": "markdown",
   "id": "8e16f1f57ab2f8e3",
   "metadata": {
    "collapsed": false
   },
   "source": [
    "### Fare"
   ]
  },
  {
   "cell_type": "code",
   "execution_count": 21,
   "id": "6f1b7cad6ab0a95d",
   "metadata": {
    "ExecuteTime": {
     "end_time": "2023-09-01T04:04:19.545819800Z",
     "start_time": "2023-09-01T04:04:19.062064100Z"
    },
    "collapsed": false
   },
   "outputs": [
    {
     "data": {
      "text/plain": [
       "count    891.000000\n",
       "mean      32.204208\n",
       "std       49.693429\n",
       "min        0.000000\n",
       "25%        7.910400\n",
       "50%       14.454200\n",
       "75%       31.000000\n",
       "max      512.329200\n",
       "Name: Fare, dtype: float64"
      ]
     },
     "execution_count": 21,
     "metadata": {},
     "output_type": "execute_result"
    }
   ],
   "source": [
    "train_df['Fare'].describe()"
   ]
  },
  {
   "cell_type": "code",
   "execution_count": 22,
   "id": "f050977d086501ae",
   "metadata": {
    "ExecuteTime": {
     "end_time": "2023-09-01T04:04:19.547907900Z",
     "start_time": "2023-09-01T04:04:19.077063400Z"
    },
    "collapsed": false
   },
   "outputs": [
    {
     "data": {
      "text/plain": [
       "<Axes: xlabel='Fare', ylabel='Count'>"
      ]
     },
     "execution_count": 22,
     "metadata": {},
     "output_type": "execute_result"
    },
    {
     "data": {
      "image/png": "[encoded data removed]",
      "text/plain": [
       "<Figure size 2000x600 with 1 Axes>"
      ]
     },
     "metadata": {},
     "output_type": "display_data"
    }
   ],
   "source": [
    "plt.figure(figsize=(20, 6))\n",
    "sns.histplot(data=train_df, x='Fare', bins=40, hue=\"Survived\")"
   ]
  },
  {
   "cell_type": "code",
   "execution_count": 23,
   "id": "d1a30cffae3a6558",
   "metadata": {
    "ExecuteTime": {
     "end_time": "2023-09-01T04:04:19.582726400Z",
     "start_time": "2023-09-01T04:04:19.330803800Z"
    },
    "collapsed": false
   },
   "outputs": [
    {
     "ename": "ValueError",
     "evalue": "Cannot use `hue` without `x` and `y`",
     "output_type": "error",
     "traceback": [
      "\u001b[1;31m---------------------------------------------------------------------------\u001b[0m",
      "\u001b[1;31mValueError\u001b[0m                                Traceback (most recent call last)",
      "\u001b[1;32md:\\workspace\\python\\Machine_learning\\Project\\Suprevised\\Titanic\\main.ipynb Cell 38\u001b[0m in \u001b[0;36m4\n\u001b[0;32m      <a href='vscode-notebook-cell:/d%3A/workspace/python/Machine_learning/Project/Suprevised/Titanic/main.ipynb#X52sZmlsZQ%3D%3D?line=1'>2</a>\u001b[0m fare_category \u001b[39m=\u001b[39m [\u001b[39m'\u001b[39m\u001b[39mEconomic\u001b[39m\u001b[39m'\u001b[39m, \u001b[39m'\u001b[39m\u001b[39mStandard\u001b[39m\u001b[39m'\u001b[39m, \u001b[39m'\u001b[39m\u001b[39mExpensive\u001b[39m\u001b[39m'\u001b[39m, \u001b[39m'\u001b[39m\u001b[39mLuxury\u001b[39m\u001b[39m'\u001b[39m]\n\u001b[0;32m      <a href='vscode-notebook-cell:/d%3A/workspace/python/Machine_learning/Project/Suprevised/Titanic/main.ipynb#X52sZmlsZQ%3D%3D?line=2'>3</a>\u001b[0m quartile_data \u001b[39m=\u001b[39m  pd\u001b[39m.\u001b[39mqcut(train_df[\u001b[39m'\u001b[39m\u001b[39mFare\u001b[39m\u001b[39m'\u001b[39m], \u001b[39m4\u001b[39m, labels\u001b[39m=\u001b[39mfare_category)\n\u001b[1;32m----> <a href='vscode-notebook-cell:/d%3A/workspace/python/Machine_learning/Project/Suprevised/Titanic/main.ipynb#X52sZmlsZQ%3D%3D?line=3'>4</a>\u001b[0m sns\u001b[39m.\u001b[39;49mcountplot(quartile_data, hue\u001b[39m=\u001b[39;49mtrain_df[\u001b[39m'\u001b[39;49m\u001b[39mSurvived\u001b[39;49m\u001b[39m'\u001b[39;49m])\n\u001b[0;32m      <a href='vscode-notebook-cell:/d%3A/workspace/python/Machine_learning/Project/Suprevised/Titanic/main.ipynb#X52sZmlsZQ%3D%3D?line=4'>5</a>\u001b[0m plt\u001b[39m.\u001b[39mlegend(title\u001b[39m=\u001b[39m\u001b[39m\"\u001b[39m\u001b[39m\"\u001b[39m, labels\u001b[39m=\u001b[39m[\u001b[39m'\u001b[39m\u001b[39mNot survived\u001b[39m\u001b[39m'\u001b[39m, \u001b[39m'\u001b[39m\u001b[39mSurvived\u001b[39m\u001b[39m'\u001b[39m], fontsize\u001b[39m=\u001b[39m\u001b[39m\"\u001b[39m\u001b[39m12\u001b[39m\u001b[39m\"\u001b[39m)\n",
      "File \u001b[1;32mc:\\Users\\DELL\\AppData\\Local\\Programs\\Python\\Python310\\lib\\site-packages\\seaborn\\categorical.py:2942\u001b[0m, in \u001b[0;36mcountplot\u001b[1;34m(data, x, y, hue, order, hue_order, orient, color, palette, saturation, width, dodge, ax, **kwargs)\u001b[0m\n\u001b[0;32m   2939\u001b[0m \u001b[39melif\u001b[39;00m x \u001b[39mis\u001b[39;00m \u001b[39mnot\u001b[39;00m \u001b[39mNone\u001b[39;00m \u001b[39mand\u001b[39;00m y \u001b[39mis\u001b[39;00m \u001b[39mnot\u001b[39;00m \u001b[39mNone\u001b[39;00m:\n\u001b[0;32m   2940\u001b[0m     \u001b[39mraise\u001b[39;00m \u001b[39mValueError\u001b[39;00m(\u001b[39m\"\u001b[39m\u001b[39mCannot pass values for both `x` and `y`\u001b[39m\u001b[39m\"\u001b[39m)\n\u001b[1;32m-> 2942\u001b[0m plotter \u001b[39m=\u001b[39m _CountPlotter(\n\u001b[0;32m   2943\u001b[0m     x, y, hue, data, order, hue_order,\n\u001b[0;32m   2944\u001b[0m     estimator, errorbar, n_boot, units, seed,\n\u001b[0;32m   2945\u001b[0m     orient, color, palette, saturation,\n\u001b[0;32m   2946\u001b[0m     width, errcolor, errwidth, capsize, dodge\n\u001b[0;32m   2947\u001b[0m )\n\u001b[0;32m   2949\u001b[0m plotter\u001b[39m.\u001b[39mvalue_label \u001b[39m=\u001b[39m \u001b[39m\"\u001b[39m\u001b[39mcount\u001b[39m\u001b[39m\"\u001b[39m\n\u001b[0;32m   2951\u001b[0m \u001b[39mif\u001b[39;00m ax \u001b[39mis\u001b[39;00m \u001b[39mNone\u001b[39;00m:\n",
      "File \u001b[1;32mc:\\Users\\DELL\\AppData\\Local\\Programs\\Python\\Python310\\lib\\site-packages\\seaborn\\categorical.py:1530\u001b[0m, in \u001b[0;36m_BarPlotter.__init__\u001b[1;34m(self, x, y, hue, data, order, hue_order, estimator, errorbar, n_boot, units, seed, orient, color, palette, saturation, width, errcolor, errwidth, capsize, dodge)\u001b[0m\n\u001b[0;32m   1525\u001b[0m \u001b[39mdef\u001b[39;00m \u001b[39m__init__\u001b[39m(\u001b[39mself\u001b[39m, x, y, hue, data, order, hue_order,\n\u001b[0;32m   1526\u001b[0m              estimator, errorbar, n_boot, units, seed,\n\u001b[0;32m   1527\u001b[0m              orient, color, palette, saturation, width,\n\u001b[0;32m   1528\u001b[0m              errcolor, errwidth, capsize, dodge):\n\u001b[0;32m   1529\u001b[0m     \u001b[39m\"\"\"Initialize the plotter.\"\"\"\u001b[39;00m\n\u001b[1;32m-> 1530\u001b[0m     \u001b[39mself\u001b[39;49m\u001b[39m.\u001b[39;49mestablish_variables(x, y, hue, data, orient,\n\u001b[0;32m   1531\u001b[0m                              order, hue_order, units)\n\u001b[0;32m   1532\u001b[0m     \u001b[39mself\u001b[39m\u001b[39m.\u001b[39mestablish_colors(color, palette, saturation)\n\u001b[0;32m   1533\u001b[0m     \u001b[39mself\u001b[39m\u001b[39m.\u001b[39mestimate_statistic(estimator, errorbar, n_boot, seed)\n",
      "File \u001b[1;32mc:\\Users\\DELL\\AppData\\Local\\Programs\\Python\\Python310\\lib\\site-packages\\seaborn\\categorical.py:437\u001b[0m, in \u001b[0;36m_CategoricalPlotter.establish_variables\u001b[1;34m(self, x, y, hue, data, orient, order, hue_order, units)\u001b[0m\n\u001b[0;32m    435\u001b[0m \u001b[39mif\u001b[39;00m hue \u001b[39mis\u001b[39;00m \u001b[39mnot\u001b[39;00m \u001b[39mNone\u001b[39;00m:\n\u001b[0;32m    436\u001b[0m     error \u001b[39m=\u001b[39m \u001b[39m\"\u001b[39m\u001b[39mCannot use `hue` without `x` and `y`\u001b[39m\u001b[39m\"\u001b[39m\n\u001b[1;32m--> 437\u001b[0m     \u001b[39mraise\u001b[39;00m \u001b[39mValueError\u001b[39;00m(error)\n\u001b[0;32m    439\u001b[0m \u001b[39m# No hue grouping with wide inputs\u001b[39;00m\n\u001b[0;32m    440\u001b[0m plot_hues \u001b[39m=\u001b[39m \u001b[39mNone\u001b[39;00m\n",
      "\u001b[1;31mValueError\u001b[0m: Cannot use `hue` without `x` and `y`"
     ]
    }
   ],
   "source": [
    "# To name for 0-25% quartile, 25-50, 50-75, 75-100\n",
    "fare_category = ['Economic', 'Standard', 'Expensive', 'Luxury']\n",
    "quartile_data =  pd.qcut(train_df['Fare'], 4, labels=fare_category)\n",
    "sns.countplot(quartile_data, hue=train_df['Survived'])\n",
    "plt.legend(title=\"\", labels=['Not survived', 'Survived'], fontsize=\"12\")\n"
   ]
  },
  {
   "cell_type": "markdown",
   "id": "28fbdf643638e51d",
   "metadata": {
    "collapsed": false
   },
   "source": [
    "* **Distribution of Fare**\n",
    "    - Fare doesn't follow a normal distribution and has a huge at the price range `[0- 100$]`\n",
    "    - The  distribution is skewed to the left with `75%` of the fare paid under `31$` and a max price of `512$`\n",
    "* **Quartile**\n",
    "    - Passenger with `Luxury` and `Expensive` had more chance to survive"
   ]
  },
  {
   "cell_type": "markdown",
   "id": "acf33720e1f4cbbb",
   "metadata": {
    "collapsed": false
   },
   "source": [
    "## Feature Engineering & Data Wrangling"
   ]
  },
  {
   "cell_type": "markdown",
   "id": "4126aab6da927862",
   "metadata": {
    "collapsed": false
   },
   "source": [
    "### Name"
   ]
  },
  {
   "cell_type": "code",
   "execution_count": null,
   "id": "6b2bfb5eef3f7305",
   "metadata": {
    "ExecuteTime": {
     "end_time": "2023-09-01T04:04:19.582726400Z",
     "start_time": "2023-09-01T04:04:19.488468100Z"
    },
    "collapsed": false
   },
   "outputs": [
    {
     "data": {
      "text/plain": [
       "PassengerId\n",
       "1                                Braund, Mr. Owen Harris\n",
       "2      Cumings, Mrs. John Bradley (Florence Briggs Th...\n",
       "3                                 Heikkinen, Miss. Laina\n",
       "4           Futrelle, Mrs. Jacques Heath (Lily May Peel)\n",
       "5                               Allen, Mr. William Henry\n",
       "                             ...                        \n",
       "887                                Montvila, Rev. Juozas\n",
       "888                         Graham, Miss. Margaret Edith\n",
       "889             Johnston, Miss. Catherine Helen \"Carrie\"\n",
       "890                                Behr, Mr. Karl Howell\n",
       "891                                  Dooley, Mr. Patrick\n",
       "Name: Name, Length: 891, dtype: object"
      ]
     },
     "execution_count": 25,
     "metadata": {},
     "output_type": "execute_result"
    }
   ],
   "source": [
    "train_df[\"Name\"]  "
   ]
  },
  {
   "cell_type": "code",
   "execution_count": null,
   "id": "2c56455a834a380d",
   "metadata": {
    "ExecuteTime": {
     "end_time": "2023-09-01T04:04:19.582726400Z",
     "start_time": "2023-09-01T04:04:19.500555100Z"
    },
    "collapsed": false
   },
   "outputs": [],
   "source": [
    "import re\n",
    "def extract_title(name):\n",
    "    p = re.compile(r\",([\\w\\s]+)\\.\")\n",
    "    if p.search(name) is None:\n",
    "        print(name)\n",
    "    return p.search(name).groups(1)[0].strip()\n",
    "train_df['Title'] = train_df['Name'].apply(extract_title)"
   ]
  },
  {
   "cell_type": "code",
   "execution_count": null,
   "id": "aa93d30b6cf66d06",
   "metadata": {
    "ExecuteTime": {
     "end_time": "2023-09-01T04:04:19.583738500Z",
     "start_time": "2023-09-01T04:04:19.517554600Z"
    },
    "collapsed": false
   },
   "outputs": [
    {
     "data": {
      "text/plain": [
       "Mr              517\n",
       "Miss            182\n",
       "Mrs             125\n",
       "Master           40\n",
       "Dr                7\n",
       "Rev               6\n",
       "Mlle              2\n",
       "Major             2\n",
       "Col               2\n",
       "the Countess      1\n",
       "Capt              1\n",
       "Ms                1\n",
       "Sir               1\n",
       "Lady              1\n",
       "Mme               1\n",
       "Don               1\n",
       "Jonkheer          1\n",
       "Name: Title, dtype: int64"
      ]
     },
     "execution_count": 27,
     "metadata": {},
     "output_type": "execute_result"
    }
   ],
   "source": [
    "train_df['Title'].value_counts()"
   ]
  },
  {
   "cell_type": "code",
   "execution_count": null,
   "id": "5cc531969168994d",
   "metadata": {
    "ExecuteTime": {
     "end_time": "2023-09-01T04:04:19.598063900Z",
     "start_time": "2023-09-01T04:04:19.534493600Z"
    },
    "collapsed": false
   },
   "outputs": [
    {
     "data": {
      "text/plain": [
       "Mr        240\n",
       "Miss       78\n",
       "Mrs        72\n",
       "Master     21\n",
       "Col         2\n",
       "Rev         2\n",
       "Ms          1\n",
       "Dr          1\n",
       "Dona        1\n",
       "Name: Title, dtype: int64"
      ]
     },
     "execution_count": 28,
     "metadata": {},
     "output_type": "execute_result"
    }
   ],
   "source": [
    "test_df[\"Title\"] = test_df['Name'].apply(extract_title)\n",
    "test_df['Title'].value_counts()"
   ]
  },
  {
   "cell_type": "code",
   "execution_count": null,
   "id": "762579639a4bc5e9",
   "metadata": {
    "ExecuteTime": {
     "end_time": "2023-09-01T04:04:19.846848400Z",
     "start_time": "2023-09-01T04:04:19.551079Z"
    },
    "collapsed": false
   },
   "outputs": [
    {
     "data": {
      "text/plain": [
       "<Axes: xlabel='Title', ylabel='count'>"
      ]
     },
     "execution_count": 29,
     "metadata": {},
     "output_type": "execute_result"
    },
    {
     "data": {
      "image/png": "[encoded data removed]",
      "text/plain": [
       "<Figure size 1200x600 with 1 Axes>"
      ]
     },
     "metadata": {},
     "output_type": "display_data"
    }
   ],
   "source": [
    "plt.figure(figsize=(12,6))\n",
    "sns.countplot(data=train_df, x=\"Title\", hue='Survived')"
   ]
  },
  {
   "cell_type": "code",
   "execution_count": null,
   "id": "8e6fe1a2a91291d6",
   "metadata": {
    "ExecuteTime": {
     "end_time": "2023-09-01T04:04:19.846848400Z",
     "start_time": "2023-09-01T04:04:19.735368700Z"
    },
    "collapsed": false
   },
   "outputs": [],
   "source": [
    "def group_title(title):\n",
    "    if title in ['Mr', 'Mrs', 'Miss', \"Master\"]:\n",
    "        return title\n",
    "    elif title == 'Ms':\n",
    "        return \"Miss\"\n",
    "    else:\n",
    "        return \"Other\"\n",
    "\n",
    "train_df['Title'] = train_df['Title'].apply(group_title)\n",
    "test_df['Title'] = test_df['Title'].apply(group_title)"
   ]
  },
  {
   "cell_type": "code",
   "execution_count": null,
   "id": "6c06a62a0af09a6d",
   "metadata": {
    "ExecuteTime": {
     "end_time": "2023-09-01T04:04:20.168751Z",
     "start_time": "2023-09-01T04:04:19.748848900Z"
    },
    "collapsed": false
   },
   "outputs": [
    {
     "data": {
      "text/plain": [
       "<Axes: xlabel='Title', ylabel='count'>"
      ]
     },
     "execution_count": 31,
     "metadata": {},
     "output_type": "execute_result"
    },
    {
     "data": {
      "image/png": "[encoded data removed]",
      "text/plain": [
       "<Figure size 1200x600 with 1 Axes>"
      ]
     },
     "metadata": {},
     "output_type": "display_data"
    }
   ],
   "source": [
    "plt.figure(figsize=(12,6))\n",
    "sns.countplot(data=train_df, x=\"Title\", hue='Survived')"
   ]
  },
  {
   "cell_type": "markdown",
   "id": "196511d5d0da9c0",
   "metadata": {
    "collapsed": false
   },
   "source": [
    "### Family\n",
    "- `SibSp`, `Parch`"
   ]
  },
  {
   "cell_type": "code",
   "execution_count": null,
   "id": "e75bf71a47093f98",
   "metadata": {
    "ExecuteTime": {
     "end_time": "2023-09-01T04:04:20.170785800Z",
     "start_time": "2023-09-01T04:04:20.155300500Z"
    },
    "collapsed": false
   },
   "outputs": [],
   "source": [
    "# Calculate member of each family\n",
    "train_df['Family_Member'] = train_df['SibSp'].astype(int) + train_df['Parch'].astype(int) + 1\n",
    "test_df['Family_Member'] = test_df['SibSp'].astype(int) + train_df['Parch'].astype(int) + 1\n"
   ]
  },
  {
   "cell_type": "code",
   "execution_count": null,
   "id": "831d8ec5424bb27a",
   "metadata": {
    "ExecuteTime": {
     "end_time": "2023-09-01T04:04:20.315480200Z",
     "start_time": "2023-09-01T04:04:20.172753400Z"
    },
    "collapsed": false
   },
   "outputs": [
    {
     "data": {
      "text/plain": [
       "<Axes: xlabel='Family_Member', ylabel='count'>"
      ]
     },
     "execution_count": 33,
     "metadata": {},
     "output_type": "execute_result"
    },
    {
     "data": {
      "image/png": "[encoded data removed]",
      "text/plain": [
       "<Figure size 640x480 with 1 Axes>"
      ]
     },
     "metadata": {},
     "output_type": "display_data"
    }
   ],
   "source": [
    "sns.countplot(data=train_df, x=\"Family_Member\", hue=\"Survived\")"
   ]
  },
  {
   "cell_type": "code",
   "execution_count": null,
   "id": "bd1272d7dca96a5c",
   "metadata": {
    "ExecuteTime": {
     "end_time": "2023-09-01T04:04:20.324671200Z",
     "start_time": "2023-09-01T04:04:20.308482900Z"
    },
    "collapsed": false
   },
   "outputs": [],
   "source": [
    "# Calculate size of each family \n",
    "train_df['Family_Size'] = pd.cut(train_df['Family_Member'], bins=[0, 1, 4, 6, 20], labels=['Solo', 'Normal', 'Medium', 'Large'])\n",
    "test_df['Family_Size'] = pd.cut(test_df['Family_Member'], bins=[0, 1, 4, 6, 20], labels=['Solo', 'Normal', 'Medium', 'Large'])"
   ]
  },
  {
   "cell_type": "code",
   "execution_count": null,
   "id": "8ac87460368de395",
   "metadata": {
    "ExecuteTime": {
     "end_time": "2023-09-01T04:04:20.434001200Z",
     "start_time": "2023-09-01T04:04:20.323669700Z"
    },
    "collapsed": false
   },
   "outputs": [
    {
     "data": {
      "text/plain": [
       "<Axes: xlabel='Family_Size', ylabel='count'>"
      ]
     },
     "execution_count": 35,
     "metadata": {},
     "output_type": "execute_result"
    },
    {
     "data": {
      "image/png": "[encoded data removed]",
      "text/plain": [
       "<Figure size 640x480 with 1 Axes>"
      ]
     },
     "metadata": {},
     "output_type": "display_data"
    }
   ],
   "source": [
    "sns.countplot(data=train_df, x='Family_Size', hue='Survived')"
   ]
  },
  {
   "cell_type": "markdown",
   "id": "4f3bdd5175f003a8",
   "metadata": {
    "collapsed": false
   },
   "source": [
    "### Data Wrangling"
   ]
  },
  {
   "cell_type": "code",
   "execution_count": null,
   "id": "2a8658dbe1a30b1d",
   "metadata": {
    "ExecuteTime": {
     "end_time": "2023-09-01T04:04:20.451952Z",
     "start_time": "2023-09-01T04:04:20.433005500Z"
    },
    "collapsed": false
   },
   "outputs": [
    {
     "name": "stdout",
     "output_type": "stream",
     "text": [
      "['Age', 'Fare', 'Parch', 'Embarked', 'SibSp', 'Pclass', 'Sex']\n"
     ]
    }
   ],
   "source": [
    "num_features = ['Age', 'Fare']\n",
    "category_features = ['Parch', 'Embarked', 'SibSp', 'Pclass', 'Sex']\n",
    "feature_cols = num_features + category_features\n",
    "print(feature_cols)"
   ]
  },
  {
   "cell_type": "code",
   "execution_count": null,
   "id": "9416dee7fb8327e2",
   "metadata": {
    "ExecuteTime": {
     "end_time": "2023-09-01T04:04:20.520902900Z",
     "start_time": "2023-09-01T04:04:20.451952Z"
    },
    "collapsed": false
   },
   "outputs": [
    {
     "name": "stdout",
     "output_type": "stream",
     "text": [
      "Missing in train dataset\n",
      "Columns Age has 19.87% missing_values\n",
      "Columns Embarked has 0.22% missing_values\n",
      "\n",
      "Missing in test dataset\n",
      "Columns Age has 20.57% missing_values\n",
      "Columns Fare has 0.24% missing_values\n"
     ]
    }
   ],
   "source": [
    "def display_missing(df, feat_cols):\n",
    "    n_sample = len(df)\n",
    "    for col in feat_cols:\n",
    "       missing_count = df[col].isnull().sum()\n",
    "       \n",
    "       if missing_count > 0:\n",
    "           print(f'Columns {col} has {missing_count*100 /n_sample:.2f}% missing_values')\n",
    "print('Missing in train dataset')\n",
    "display_missing(train_df, feature_cols)\n",
    "print()\n",
    "print('Missing in test dataset')\n",
    "display_missing(test_df, feature_cols)"
   ]
  },
  {
   "cell_type": "markdown",
   "id": "b50c553ef70a9c97",
   "metadata": {
    "collapsed": false
   },
   "source": [
    "### Filling missing value\n",
    "- `Age` : Filling missing values with `median` of whole dataset"
   ]
  },
  {
   "cell_type": "code",
   "execution_count": null,
   "id": "933d07ae700e1257",
   "metadata": {
    "ExecuteTime": {
     "end_time": "2023-09-01T04:04:20.534164100Z",
     "start_time": "2023-09-01T04:04:20.463243700Z"
    },
    "collapsed": false
   },
   "outputs": [
    {
     "name": "stderr",
     "output_type": "stream",
     "text": [
      "C:\\Users\\DELL\\AppData\\Local\\Temp\\ipykernel_13796\\1121100101.py:1: FutureWarning: The default value of numeric_only in DataFrameGroupBy.median is deprecated. In a future version, numeric_only will default to False. Either specify numeric_only or select only columns which should be valid for the function.\n",
      "  age_by_sex_pclass = train_df.groupby(['Sex', 'Pclass']).median()['Age']\n"
     ]
    },
    {
     "data": {
      "text/plain": [
       "Sex     Pclass\n",
       "female  1         35.0\n",
       "        2         28.0\n",
       "        3         21.5\n",
       "male    1         40.0\n",
       "        2         30.0\n",
       "        3         25.0\n",
       "Name: Age, dtype: float64"
      ]
     },
     "execution_count": 38,
     "metadata": {},
     "output_type": "execute_result"
    }
   ],
   "source": [
    "age_by_sex_pclass = train_df.groupby(['Sex', 'Pclass']).median()['Age']\n",
    "age_by_sex_pclass"
   ]
  },
  {
   "cell_type": "code",
   "execution_count": null,
   "id": "a98948853104ed2e",
   "metadata": {
    "ExecuteTime": {
     "end_time": "2023-09-01T04:04:20.535160900Z",
     "start_time": "2023-09-01T04:04:20.479594300Z"
    },
    "collapsed": false
   },
   "outputs": [
    {
     "name": "stdout",
     "output_type": "stream",
     "text": [
      "Columns Embarked has 0.22% missing_values\n",
      "Columns Fare has 0.24% missing_values\n"
     ]
    },
    {
     "name": "stderr",
     "output_type": "stream",
     "text": [
      "C:\\Users\\DELL\\AppData\\Local\\Temp\\ipykernel_13796\\4138962590.py:2: FutureWarning: Not prepending group keys to the result index of transform-like apply. In the future, the group keys will be included in the index, regardless of whether the applied function returns a like-indexed object.\n",
      "To preserve the previous behavior, use\n",
      "\n",
      "\t>>> .groupby(..., group_keys=False)\n",
      "\n",
      "To adopt the future behavior and silence this warning, use \n",
      "\n",
      "\t>>> .groupby(..., group_keys=True)\n",
      "  train_df['Age'] = train_df.groupby(['Sex', 'Pclass'])['Age'].apply(lambda x : x.fillna(x.median()))\n",
      "C:\\Users\\DELL\\AppData\\Local\\Temp\\ipykernel_13796\\4138962590.py:3: FutureWarning: Not prepending group keys to the result index of transform-like apply. In the future, the group keys will be included in the index, regardless of whether the applied function returns a like-indexed object.\n",
      "To preserve the previous behavior, use\n",
      "\n",
      "\t>>> .groupby(..., group_keys=False)\n",
      "\n",
      "To adopt the future behavior and silence this warning, use \n",
      "\n",
      "\t>>> .groupby(..., group_keys=True)\n",
      "  test_df['Age'] = test_df.groupby(['Sex', 'Pclass'])['Age'].apply(lambda x : x.fillna(x.median()))\n"
     ]
    }
   ],
   "source": [
    "# Filling the missing values in Age with the medians of Sex and Pclass in groups\n",
    "train_df['Age'] = train_df.groupby(['Sex', 'Pclass'])['Age'].apply(lambda x : x.fillna(x.median()))\n",
    "test_df['Age'] = test_df.groupby(['Sex', 'Pclass'])['Age'].apply(lambda x : x.fillna(x.median()))\n",
    "display_missing(train_df, feature_cols)\n",
    "display_missing(test_df, feature_cols)\n"
   ]
  },
  {
   "cell_type": "code",
   "execution_count": null,
   "id": "921ebf2cac780397",
   "metadata": {
    "ExecuteTime": {
     "end_time": "2023-09-01T04:04:20.536155200Z",
     "start_time": "2023-09-01T04:04:20.496983600Z"
    },
    "collapsed": false
   },
   "outputs": [],
   "source": [
    "X = train_df[feature_cols]\n",
    "y = train_df['Survived']"
   ]
  },
  {
   "cell_type": "code",
   "execution_count": null,
   "id": "53f2a4a4c1942d93",
   "metadata": {
    "ExecuteTime": {
     "end_time": "2023-09-01T04:04:20.538361800Z",
     "start_time": "2023-09-01T04:04:20.509975200Z"
    },
    "collapsed": false
   },
   "outputs": [],
   "source": [
    "X_test = test_df[feature_cols]"
   ]
  },
  {
   "cell_type": "markdown",
   "id": "a82d7d3118ab1f22",
   "metadata": {
    "collapsed": false
   },
   "source": [
    "#### Preprocess Pipeline"
   ]
  },
  {
   "cell_type": "code",
   "execution_count": null,
   "id": "a26ca93de2c46c24",
   "metadata": {
    "ExecuteTime": {
     "end_time": "2023-09-01T04:04:20.564026200Z",
     "start_time": "2023-09-01T04:04:20.526911100Z"
    },
    "collapsed": false
   },
   "outputs": [],
   "source": [
    "from sklearn.pipeline import Pipeline\n",
    "from sklearn.preprocessing import OneHotEncoder, StandardScaler\n",
    "from sklearn.impute import SimpleImputer\n",
    "from sklearn.compose import ColumnTransformer\n",
    "\n",
    "num_transformer = Pipeline(steps=[\n",
    "    ('imputer', SimpleImputer(strategy='median')),\n",
    "    ('scaler', StandardScaler())\n",
    "])\n",
    "\n",
    "category_transformer = Pipeline(steps=[\n",
    "     ('imputer', SimpleImputer(strategy='most_frequent')),\n",
    "    ('encoder', OneHotEncoder(handle_unknown='ignore'))\n",
    "])"
   ]
  },
  {
   "cell_type": "code",
   "execution_count": null,
   "id": "d8e86af76afc0cb9",
   "metadata": {
    "ExecuteTime": {
     "end_time": "2023-09-01T04:04:20.602391800Z",
     "start_time": "2023-09-01T04:04:20.540362700Z"
    },
    "collapsed": false
   },
   "outputs": [
    {
     "data": {
      "text/html": [
       "<style>#sk-container-id-1 {color: black;background-color: white;}#sk-container-id-1 pre{padding: 0;}#sk-container-id-1 div.sk-toggleable {background-color: white;}#sk-container-id-1 label.sk-toggleable__label {cursor: pointer;display: block;width: 100%;margin-bottom: 0;padding: 0.3em;box-sizing: border-box;text-align: center;}#sk-container-id-1 label.sk-toggleable__label-arrow:before {content: \"▸\";float: left;margin-right: 0.25em;color: #696969;}#sk-container-id-1 label.sk-toggleable__label-arrow:hover:before {color: black;}#sk-container-id-1 div.sk-estimator:hover label.sk-toggleable__label-arrow:before {color: black;}#sk-container-id-1 div.sk-toggleable__content {max-height: 0;max-width: 0;overflow: hidden;text-align: left;background-color: #f0f8ff;}#sk-container-id-1 div.sk-toggleable__content pre {margin: 0.2em;color: black;border-radius: 0.25em;background-color: #f0f8ff;}#sk-container-id-1 input.sk-toggleable__control:checked~div.sk-toggleable__content {max-height: 200px;max-width: 100%;overflow: auto;}#sk-container-id-1 input.sk-toggleable__control:checked~label.sk-toggleable__label-arrow:before {content: \"▾\";}#sk-container-id-1 div.sk-estimator input.sk-toggleable__control:checked~label.sk-toggleable__label {background-color: #d4ebff;}#sk-container-id-1 div.sk-label input.sk-toggleable__control:checked~label.sk-toggleable__label {background-color: #d4ebff;}#sk-container-id-1 input.sk-hidden--visually {border: 0;clip: rect(1px 1px 1px 1px);clip: rect(1px, 1px, 1px, 1px);height: 1px;margin: -1px;overflow: hidden;padding: 0;position: absolute;width: 1px;}#sk-container-id-1 div.sk-estimator {font-family: monospace;background-color: #f0f8ff;border: 1px dotted black;border-radius: 0.25em;box-sizing: border-box;margin-bottom: 0.5em;}#sk-container-id-1 div.sk-estimator:hover {background-color: #d4ebff;}#sk-container-id-1 div.sk-parallel-item::after {content: \"\";width: 100%;border-bottom: 1px solid gray;flex-grow: 1;}#sk-container-id-1 div.sk-label:hover label.sk-toggleable__label {background-color: #d4ebff;}#sk-container-id-1 div.sk-serial::before {content: \"\";position: absolute;border-left: 1px solid gray;box-sizing: border-box;top: 0;bottom: 0;left: 50%;z-index: 0;}#sk-container-id-1 div.sk-serial {display: flex;flex-direction: column;align-items: center;background-color: white;padding-right: 0.2em;padding-left: 0.2em;position: relative;}#sk-container-id-1 div.sk-item {position: relative;z-index: 1;}#sk-container-id-1 div.sk-parallel {display: flex;align-items: stretch;justify-content: center;background-color: white;position: relative;}#sk-container-id-1 div.sk-item::before, #sk-container-id-1 div.sk-parallel-item::before {content: \"\";position: absolute;border-left: 1px solid gray;box-sizing: border-box;top: 0;bottom: 0;left: 50%;z-index: -1;}#sk-container-id-1 div.sk-parallel-item {display: flex;flex-direction: column;z-index: 1;position: relative;background-color: white;}#sk-container-id-1 div.sk-parallel-item:first-child::after {align-self: flex-end;width: 50%;}#sk-container-id-1 div.sk-parallel-item:last-child::after {align-self: flex-start;width: 50%;}#sk-container-id-1 div.sk-parallel-item:only-child::after {width: 0;}#sk-container-id-1 div.sk-dashed-wrapped {border: 1px dashed gray;margin: 0 0.4em 0.5em 0.4em;box-sizing: border-box;padding-bottom: 0.4em;background-color: white;}#sk-container-id-1 div.sk-label label {font-family: monospace;font-weight: bold;display: inline-block;line-height: 1.2em;}#sk-container-id-1 div.sk-label-container {text-align: center;}#sk-container-id-1 div.sk-container {/* jupyter's `normalize.less` sets `[hidden] { display: none; }` but bootstrap.min.css set `[hidden] { display: none !important; }` so we also need the `!important` here to be able to override the default hidden behavior on the sphinx rendered scikit-learn.org. See: https://github.com/scikit-learn/scikit-learn/issues/21755 */display: inline-block !important;position: relative;}#sk-container-id-1 div.sk-text-repr-fallback {display: none;}</style><div id=\"sk-container-id-1\" class=\"sk-top-container\"><div class=\"sk-text-repr-fallback\"><pre>ColumnTransformer(transformers=[(&#x27;num&#x27;,\n",
       "                                 Pipeline(steps=[(&#x27;imputer&#x27;,\n",
       "                                                  SimpleImputer(strategy=&#x27;median&#x27;)),\n",
       "                                                 (&#x27;scaler&#x27;, StandardScaler())]),\n",
       "                                 [&#x27;Age&#x27;, &#x27;Fare&#x27;]),\n",
       "                                (&#x27;cat&#x27;,\n",
       "                                 Pipeline(steps=[(&#x27;imputer&#x27;,\n",
       "                                                  SimpleImputer(strategy=&#x27;most_frequent&#x27;)),\n",
       "                                                 (&#x27;encoder&#x27;,\n",
       "                                                  OneHotEncoder(handle_unknown=&#x27;ignore&#x27;))]),\n",
       "                                 [&#x27;Parch&#x27;, &#x27;Embarked&#x27;, &#x27;SibSp&#x27;, &#x27;Pclass&#x27;,\n",
       "                                  &#x27;Sex&#x27;])])</pre><b>In a Jupyter environment, please rerun this cell to show the HTML representation or trust the notebook. <br />On GitHub, the HTML representation is unable to render, please try loading this page with nbviewer.org.</b></div><div class=\"sk-container\" hidden><div class=\"sk-item sk-dashed-wrapped\"><div class=\"sk-label-container\"><div class=\"sk-label sk-toggleable\"><input class=\"sk-toggleable__control sk-hidden--visually\" id=\"sk-estimator-id-1\" type=\"checkbox\" ><label for=\"sk-estimator-id-1\" class=\"sk-toggleable__label sk-toggleable__label-arrow\">ColumnTransformer</label><div class=\"sk-toggleable__content\"><pre>ColumnTransformer(transformers=[(&#x27;num&#x27;,\n",
       "                                 Pipeline(steps=[(&#x27;imputer&#x27;,\n",
       "                                                  SimpleImputer(strategy=&#x27;median&#x27;)),\n",
       "                                                 (&#x27;scaler&#x27;, StandardScaler())]),\n",
       "                                 [&#x27;Age&#x27;, &#x27;Fare&#x27;]),\n",
       "                                (&#x27;cat&#x27;,\n",
       "                                 Pipeline(steps=[(&#x27;imputer&#x27;,\n",
       "                                                  SimpleImputer(strategy=&#x27;most_frequent&#x27;)),\n",
       "                                                 (&#x27;encoder&#x27;,\n",
       "                                                  OneHotEncoder(handle_unknown=&#x27;ignore&#x27;))]),\n",
       "                                 [&#x27;Parch&#x27;, &#x27;Embarked&#x27;, &#x27;SibSp&#x27;, &#x27;Pclass&#x27;,\n",
       "                                  &#x27;Sex&#x27;])])</pre></div></div></div><div class=\"sk-parallel\"><div class=\"sk-parallel-item\"><div class=\"sk-item\"><div class=\"sk-label-container\"><div class=\"sk-label sk-toggleable\"><input class=\"sk-toggleable__control sk-hidden--visually\" id=\"sk-estimator-id-2\" type=\"checkbox\" ><label for=\"sk-estimator-id-2\" class=\"sk-toggleable__label sk-toggleable__label-arrow\">num</label><div class=\"sk-toggleable__content\"><pre>[&#x27;Age&#x27;, &#x27;Fare&#x27;]</pre></div></div></div><div class=\"sk-serial\"><div class=\"sk-item\"><div class=\"sk-serial\"><div class=\"sk-item\"><div class=\"sk-estimator sk-toggleable\"><input class=\"sk-toggleable__control sk-hidden--visually\" id=\"sk-estimator-id-3\" type=\"checkbox\" ><label for=\"sk-estimator-id-3\" class=\"sk-toggleable__label sk-toggleable__label-arrow\">SimpleImputer</label><div class=\"sk-toggleable__content\"><pre>SimpleImputer(strategy=&#x27;median&#x27;)</pre></div></div></div><div class=\"sk-item\"><div class=\"sk-estimator sk-toggleable\"><input class=\"sk-toggleable__control sk-hidden--visually\" id=\"sk-estimator-id-4\" type=\"checkbox\" ><label for=\"sk-estimator-id-4\" class=\"sk-toggleable__label sk-toggleable__label-arrow\">StandardScaler</label><div class=\"sk-toggleable__content\"><pre>StandardScaler()</pre></div></div></div></div></div></div></div></div><div class=\"sk-parallel-item\"><div class=\"sk-item\"><div class=\"sk-label-container\"><div class=\"sk-label sk-toggleable\"><input class=\"sk-toggleable__control sk-hidden--visually\" id=\"sk-estimator-id-5\" type=\"checkbox\" ><label for=\"sk-estimator-id-5\" class=\"sk-toggleable__label sk-toggleable__label-arrow\">cat</label><div class=\"sk-toggleable__content\"><pre>[&#x27;Parch&#x27;, &#x27;Embarked&#x27;, &#x27;SibSp&#x27;, &#x27;Pclass&#x27;, &#x27;Sex&#x27;]</pre></div></div></div><div class=\"sk-serial\"><div class=\"sk-item\"><div class=\"sk-serial\"><div class=\"sk-item\"><div class=\"sk-estimator sk-toggleable\"><input class=\"sk-toggleable__control sk-hidden--visually\" id=\"sk-estimator-id-6\" type=\"checkbox\" ><label for=\"sk-estimator-id-6\" class=\"sk-toggleable__label sk-toggleable__label-arrow\">SimpleImputer</label><div class=\"sk-toggleable__content\"><pre>SimpleImputer(strategy=&#x27;most_frequent&#x27;)</pre></div></div></div><div class=\"sk-item\"><div class=\"sk-estimator sk-toggleable\"><input class=\"sk-toggleable__control sk-hidden--visually\" id=\"sk-estimator-id-7\" type=\"checkbox\" ><label for=\"sk-estimator-id-7\" class=\"sk-toggleable__label sk-toggleable__label-arrow\">OneHotEncoder</label><div class=\"sk-toggleable__content\"><pre>OneHotEncoder(handle_unknown=&#x27;ignore&#x27;)</pre></div></div></div></div></div></div></div></div></div></div></div></div>"
      ],
      "text/plain": [
       "ColumnTransformer(transformers=[('num',\n",
       "                                 Pipeline(steps=[('imputer',\n",
       "                                                  SimpleImputer(strategy='median')),\n",
       "                                                 ('scaler', StandardScaler())]),\n",
       "                                 ['Age', 'Fare']),\n",
       "                                ('cat',\n",
       "                                 Pipeline(steps=[('imputer',\n",
       "                                                  SimpleImputer(strategy='most_frequent')),\n",
       "                                                 ('encoder',\n",
       "                                                  OneHotEncoder(handle_unknown='ignore'))]),\n",
       "                                 ['Parch', 'Embarked', 'SibSp', 'Pclass',\n",
       "                                  'Sex'])])"
      ]
     },
     "execution_count": 43,
     "metadata": {},
     "output_type": "execute_result"
    }
   ],
   "source": [
    "preprocessor = ColumnTransformer(transformers=[\n",
    "    ('num', num_transformer, num_features),\n",
    "    ('cat', category_transformer, category_features)\n",
    "])\n",
    "preprocessor.fit(X)"
   ]
  },
  {
   "cell_type": "code",
   "execution_count": null,
   "id": "29ed04024afcbe",
   "metadata": {
    "ExecuteTime": {
     "end_time": "2023-09-01T04:04:20.628640500Z",
     "start_time": "2023-09-01T04:04:20.572260300Z"
    },
    "collapsed": false
   },
   "outputs": [],
   "source": [
    "X= preprocessor.transform(X)\n",
    "X_test = preprocessor.transform(X_test)"
   ]
  },
  {
   "cell_type": "code",
   "execution_count": null,
   "id": "8c02238c328443a1",
   "metadata": {
    "ExecuteTime": {
     "end_time": "2023-09-01T04:05:40.215447700Z",
     "start_time": "2023-09-01T04:05:40.170378300Z"
    },
    "collapsed": false
   },
   "outputs": [],
   "source": [
    "from sklearn.model_selection import train_test_split\n",
    "X_train, X_val, y_train, y_val = train_test_split(X, y, test_size=0.2)"
   ]
  },
  {
   "cell_type": "code",
   "execution_count": null,
   "id": "a5d0d7d56f851a22",
   "metadata": {
    "ExecuteTime": {
     "end_time": "2023-09-01T05:01:24.586133400Z",
     "start_time": "2023-09-01T05:01:24.542495500Z"
    },
    "collapsed": false
   },
   "outputs": [
    {
     "data": {
      "text/plain": [
       "((712, 24), (179, 24))"
      ]
     },
     "execution_count": 46,
     "metadata": {},
     "output_type": "execute_result"
    }
   ],
   "source": [
    "X_train.shape, X_val.shape"
   ]
  },
  {
   "cell_type": "markdown",
   "id": "86f6c21e461d15d7",
   "metadata": {
    "collapsed": false
   },
   "source": [
    "### Logistic Regression"
   ]
  },
  {
   "cell_type": "code",
   "execution_count": null,
   "id": "88411f88a2700596",
   "metadata": {
    "ExecuteTime": {
     "end_time": "2023-09-01T05:10:38.541808500Z",
     "start_time": "2023-09-01T05:10:38.506820500Z"
    },
    "collapsed": false
   },
   "outputs": [],
   "source": [
    "from sklearn.linear_model import LogisticRegression\n",
    "from sklearn.metrics import precision_score, recall_score, confusion_matrix, classification_report"
   ]
  },
  {
   "cell_type": "code",
   "execution_count": null,
   "id": "d2a6b54365bb3543",
   "metadata": {
    "ExecuteTime": {
     "start_time": "2023-09-01T05:04:36.664932200Z"
    },
    "collapsed": false
   },
   "outputs": [
    {
     "data": {
      "text/html": [
       "<style>#sk-container-id-2 {color: black;background-color: white;}#sk-container-id-2 pre{padding: 0;}#sk-container-id-2 div.sk-toggleable {background-color: white;}#sk-container-id-2 label.sk-toggleable__label {cursor: pointer;display: block;width: 100%;margin-bottom: 0;padding: 0.3em;box-sizing: border-box;text-align: center;}#sk-container-id-2 label.sk-toggleable__label-arrow:before {content: \"▸\";float: left;margin-right: 0.25em;color: #696969;}#sk-container-id-2 label.sk-toggleable__label-arrow:hover:before {color: black;}#sk-container-id-2 div.sk-estimator:hover label.sk-toggleable__label-arrow:before {color: black;}#sk-container-id-2 div.sk-toggleable__content {max-height: 0;max-width: 0;overflow: hidden;text-align: left;background-color: #f0f8ff;}#sk-container-id-2 div.sk-toggleable__content pre {margin: 0.2em;color: black;border-radius: 0.25em;background-color: #f0f8ff;}#sk-container-id-2 input.sk-toggleable__control:checked~div.sk-toggleable__content {max-height: 200px;max-width: 100%;overflow: auto;}#sk-container-id-2 input.sk-toggleable__control:checked~label.sk-toggleable__label-arrow:before {content: \"▾\";}#sk-container-id-2 div.sk-estimator input.sk-toggleable__control:checked~label.sk-toggleable__label {background-color: #d4ebff;}#sk-container-id-2 div.sk-label input.sk-toggleable__control:checked~label.sk-toggleable__label {background-color: #d4ebff;}#sk-container-id-2 input.sk-hidden--visually {border: 0;clip: rect(1px 1px 1px 1px);clip: rect(1px, 1px, 1px, 1px);height: 1px;margin: -1px;overflow: hidden;padding: 0;position: absolute;width: 1px;}#sk-container-id-2 div.sk-estimator {font-family: monospace;background-color: #f0f8ff;border: 1px dotted black;border-radius: 0.25em;box-sizing: border-box;margin-bottom: 0.5em;}#sk-container-id-2 div.sk-estimator:hover {background-color: #d4ebff;}#sk-container-id-2 div.sk-parallel-item::after {content: \"\";width: 100%;border-bottom: 1px solid gray;flex-grow: 1;}#sk-container-id-2 div.sk-label:hover label.sk-toggleable__label {background-color: #d4ebff;}#sk-container-id-2 div.sk-serial::before {content: \"\";position: absolute;border-left: 1px solid gray;box-sizing: border-box;top: 0;bottom: 0;left: 50%;z-index: 0;}#sk-container-id-2 div.sk-serial {display: flex;flex-direction: column;align-items: center;background-color: white;padding-right: 0.2em;padding-left: 0.2em;position: relative;}#sk-container-id-2 div.sk-item {position: relative;z-index: 1;}#sk-container-id-2 div.sk-parallel {display: flex;align-items: stretch;justify-content: center;background-color: white;position: relative;}#sk-container-id-2 div.sk-item::before, #sk-container-id-2 div.sk-parallel-item::before {content: \"\";position: absolute;border-left: 1px solid gray;box-sizing: border-box;top: 0;bottom: 0;left: 50%;z-index: -1;}#sk-container-id-2 div.sk-parallel-item {display: flex;flex-direction: column;z-index: 1;position: relative;background-color: white;}#sk-container-id-2 div.sk-parallel-item:first-child::after {align-self: flex-end;width: 50%;}#sk-container-id-2 div.sk-parallel-item:last-child::after {align-self: flex-start;width: 50%;}#sk-container-id-2 div.sk-parallel-item:only-child::after {width: 0;}#sk-container-id-2 div.sk-dashed-wrapped {border: 1px dashed gray;margin: 0 0.4em 0.5em 0.4em;box-sizing: border-box;padding-bottom: 0.4em;background-color: white;}#sk-container-id-2 div.sk-label label {font-family: monospace;font-weight: bold;display: inline-block;line-height: 1.2em;}#sk-container-id-2 div.sk-label-container {text-align: center;}#sk-container-id-2 div.sk-container {/* jupyter's `normalize.less` sets `[hidden] { display: none; }` but bootstrap.min.css set `[hidden] { display: none !important; }` so we also need the `!important` here to be able to override the default hidden behavior on the sphinx rendered scikit-learn.org. See: https://github.com/scikit-learn/scikit-learn/issues/21755 */display: inline-block !important;position: relative;}#sk-container-id-2 div.sk-text-repr-fallback {display: none;}</style><div id=\"sk-container-id-2\" class=\"sk-top-container\"><div class=\"sk-text-repr-fallback\"><pre>LogisticRegression(max_iter=1000, solver=&#x27;liblinear&#x27;)</pre><b>In a Jupyter environment, please rerun this cell to show the HTML representation or trust the notebook. <br />On GitHub, the HTML representation is unable to render, please try loading this page with nbviewer.org.</b></div><div class=\"sk-container\" hidden><div class=\"sk-item\"><div class=\"sk-estimator sk-toggleable\"><input class=\"sk-toggleable__control sk-hidden--visually\" id=\"sk-estimator-id-8\" type=\"checkbox\" checked><label for=\"sk-estimator-id-8\" class=\"sk-toggleable__label sk-toggleable__label-arrow\">LogisticRegression</label><div class=\"sk-toggleable__content\"><pre>LogisticRegression(max_iter=1000, solver=&#x27;liblinear&#x27;)</pre></div></div></div></div></div>"
      ],
      "text/plain": [
       "LogisticRegression(max_iter=1000, solver='liblinear')"
      ]
     },
     "execution_count": 48,
     "metadata": {},
     "output_type": "execute_result"
    }
   ],
   "source": [
    "log_reg = LogisticRegression(solver='liblinear', max_iter=1000)\n",
    "log_reg.fit(X_train, y_train)"
   ]
  },
  {
   "cell_type": "code",
   "execution_count": null,
   "id": "8519b34fa06f47f3",
   "metadata": {
    "ExecuteTime": {
     "end_time": "2023-09-01T05:05:13.628518700Z",
     "start_time": "2023-09-01T05:05:13.567403100Z"
    },
    "collapsed": false
   },
   "outputs": [
    {
     "data": {
      "text/plain": [
       "0.8379888268156425"
      ]
     },
     "execution_count": 49,
     "metadata": {},
     "output_type": "execute_result"
    }
   ],
   "source": [
    "# Score of logistic model\n",
    "log_reg.score(X_val, y_val)"
   ]
  },
  {
   "cell_type": "code",
   "execution_count": null,
   "id": "f69f296e8a3520f6",
   "metadata": {
    "ExecuteTime": {
     "end_time": "2023-09-01T05:10:53.247255800Z",
     "start_time": "2023-09-01T05:10:53.212446800Z"
    },
    "collapsed": false
   },
   "outputs": [],
   "source": [
    "y_pred = log_reg.predict(X_val)"
   ]
  },
  {
   "cell_type": "code",
   "execution_count": null,
   "id": "cd8b504c82766286",
   "metadata": {
    "ExecuteTime": {
     "end_time": "2023-09-01T05:23:10.592538800Z",
     "start_time": "2023-09-01T05:23:10.548840900Z"
    },
    "collapsed": false
   },
   "outputs": [
    {
     "name": "stdout",
     "output_type": "stream",
     "text": [
      "Classification report:\n",
      "               precision    recall  f1-score   support\n",
      "\n",
      "           0       0.86      0.88      0.87       112\n",
      "           1       0.80      0.76      0.78        67\n",
      "\n",
      "    accuracy                           0.84       179\n",
      "   macro avg       0.83      0.82      0.83       179\n",
      "weighted avg       0.84      0.84      0.84       179\n",
      "\n"
     ]
    }
   ],
   "source": [
    "def check_score(model, X_val, y_true):\n",
    "    y_pred = model.predict(X_val)\n",
    "    print(f'Classification report:\\n {classification_report(y_true, y_pred)}')\n",
    "check_score(log_reg, X_val, y_val)"
   ]
  },
  {
   "cell_type": "code",
   "execution_count": null,
   "id": "a24024f7fcb5466e",
   "metadata": {
    "ExecuteTime": {
     "end_time": "2023-09-01T05:24:52.991567Z",
     "start_time": "2023-09-01T05:24:52.944471300Z"
    },
    "collapsed": false
   },
   "outputs": [],
   "source": [
    "from sklearn.preprocessing import PolynomialFeatures\n",
    "poly =PolynomialFeatures(degree=2)\n",
    "poly_feature_train = poly.fit_transform(X_train)\n",
    "poly_feature_val =poly.transform(X_val)"
   ]
  },
  {
   "cell_type": "code",
   "execution_count": null,
   "id": "c6c7fd1300d37c4",
   "metadata": {
    "ExecuteTime": {
     "end_time": "2023-09-01T05:24:53.680213700Z",
     "start_time": "2023-09-01T05:24:53.620831Z"
    },
    "collapsed": false
   },
   "outputs": [
    {
     "name": "stderr",
     "output_type": "stream",
     "text": [
      "c:\\Users\\DELL\\AppData\\Local\\Programs\\Python\\Python310\\lib\\site-packages\\sklearn\\linear_model\\_logistic.py:444: ConvergenceWarning: lbfgs failed to converge (status=1):\n",
      "STOP: TOTAL NO. of ITERATIONS REACHED LIMIT.\n",
      "\n",
      "Increase the number of iterations (max_iter) or scale the data as shown in:\n",
      "    https://scikit-learn.org/stable/modules/preprocessing.html\n",
      "Please also refer to the documentation for alternative solver options:\n",
      "    https://scikit-learn.org/stable/modules/linear_model.html#logistic-regression\n",
      "  n_iter_i = _check_optimize_result(\n"
     ]
    },
    {
     "data": {
      "text/html": [
       "<style>#sk-container-id-3 {color: black;background-color: white;}#sk-container-id-3 pre{padding: 0;}#sk-container-id-3 div.sk-toggleable {background-color: white;}#sk-container-id-3 label.sk-toggleable__label {cursor: pointer;display: block;width: 100%;margin-bottom: 0;padding: 0.3em;box-sizing: border-box;text-align: center;}#sk-container-id-3 label.sk-toggleable__label-arrow:before {content: \"▸\";float: left;margin-right: 0.25em;color: #696969;}#sk-container-id-3 label.sk-toggleable__label-arrow:hover:before {color: black;}#sk-container-id-3 div.sk-estimator:hover label.sk-toggleable__label-arrow:before {color: black;}#sk-container-id-3 div.sk-toggleable__content {max-height: 0;max-width: 0;overflow: hidden;text-align: left;background-color: #f0f8ff;}#sk-container-id-3 div.sk-toggleable__content pre {margin: 0.2em;color: black;border-radius: 0.25em;background-color: #f0f8ff;}#sk-container-id-3 input.sk-toggleable__control:checked~div.sk-toggleable__content {max-height: 200px;max-width: 100%;overflow: auto;}#sk-container-id-3 input.sk-toggleable__control:checked~label.sk-toggleable__label-arrow:before {content: \"▾\";}#sk-container-id-3 div.sk-estimator input.sk-toggleable__control:checked~label.sk-toggleable__label {background-color: #d4ebff;}#sk-container-id-3 div.sk-label input.sk-toggleable__control:checked~label.sk-toggleable__label {background-color: #d4ebff;}#sk-container-id-3 input.sk-hidden--visually {border: 0;clip: rect(1px 1px 1px 1px);clip: rect(1px, 1px, 1px, 1px);height: 1px;margin: -1px;overflow: hidden;padding: 0;position: absolute;width: 1px;}#sk-container-id-3 div.sk-estimator {font-family: monospace;background-color: #f0f8ff;border: 1px dotted black;border-radius: 0.25em;box-sizing: border-box;margin-bottom: 0.5em;}#sk-container-id-3 div.sk-estimator:hover {background-color: #d4ebff;}#sk-container-id-3 div.sk-parallel-item::after {content: \"\";width: 100%;border-bottom: 1px solid gray;flex-grow: 1;}#sk-container-id-3 div.sk-label:hover label.sk-toggleable__label {background-color: #d4ebff;}#sk-container-id-3 div.sk-serial::before {content: \"\";position: absolute;border-left: 1px solid gray;box-sizing: border-box;top: 0;bottom: 0;left: 50%;z-index: 0;}#sk-container-id-3 div.sk-serial {display: flex;flex-direction: column;align-items: center;background-color: white;padding-right: 0.2em;padding-left: 0.2em;position: relative;}#sk-container-id-3 div.sk-item {position: relative;z-index: 1;}#sk-container-id-3 div.sk-parallel {display: flex;align-items: stretch;justify-content: center;background-color: white;position: relative;}#sk-container-id-3 div.sk-item::before, #sk-container-id-3 div.sk-parallel-item::before {content: \"\";position: absolute;border-left: 1px solid gray;box-sizing: border-box;top: 0;bottom: 0;left: 50%;z-index: -1;}#sk-container-id-3 div.sk-parallel-item {display: flex;flex-direction: column;z-index: 1;position: relative;background-color: white;}#sk-container-id-3 div.sk-parallel-item:first-child::after {align-self: flex-end;width: 50%;}#sk-container-id-3 div.sk-parallel-item:last-child::after {align-self: flex-start;width: 50%;}#sk-container-id-3 div.sk-parallel-item:only-child::after {width: 0;}#sk-container-id-3 div.sk-dashed-wrapped {border: 1px dashed gray;margin: 0 0.4em 0.5em 0.4em;box-sizing: border-box;padding-bottom: 0.4em;background-color: white;}#sk-container-id-3 div.sk-label label {font-family: monospace;font-weight: bold;display: inline-block;line-height: 1.2em;}#sk-container-id-3 div.sk-label-container {text-align: center;}#sk-container-id-3 div.sk-container {/* jupyter's `normalize.less` sets `[hidden] { display: none; }` but bootstrap.min.css set `[hidden] { display: none !important; }` so we also need the `!important` here to be able to override the default hidden behavior on the sphinx rendered scikit-learn.org. See: https://github.com/scikit-learn/scikit-learn/issues/21755 */display: inline-block !important;position: relative;}#sk-container-id-3 div.sk-text-repr-fallback {display: none;}</style><div id=\"sk-container-id-3\" class=\"sk-top-container\"><div class=\"sk-text-repr-fallback\"><pre>LogisticRegression()</pre><b>In a Jupyter environment, please rerun this cell to show the HTML representation or trust the notebook. <br />On GitHub, the HTML representation is unable to render, please try loading this page with nbviewer.org.</b></div><div class=\"sk-container\" hidden><div class=\"sk-item\"><div class=\"sk-estimator sk-toggleable\"><input class=\"sk-toggleable__control sk-hidden--visually\" id=\"sk-estimator-id-9\" type=\"checkbox\" checked><label for=\"sk-estimator-id-9\" class=\"sk-toggleable__label sk-toggleable__label-arrow\">LogisticRegression</label><div class=\"sk-toggleable__content\"><pre>LogisticRegression()</pre></div></div></div></div></div>"
      ],
      "text/plain": [
       "LogisticRegression()"
      ]
     },
     "execution_count": 53,
     "metadata": {},
     "output_type": "execute_result"
    }
   ],
   "source": [
    "#Build Polynomial Logistic Regression model\n",
    "poly_log_reg = LogisticRegression()\n",
    "poly_log_reg.fit(poly_feature_train, y_train)"
   ]
  },
  {
   "cell_type": "code",
   "execution_count": null,
   "id": "aa5e0b4a50787539",
   "metadata": {
    "ExecuteTime": {
     "end_time": "2023-09-01T05:24:54.079764100Z",
     "start_time": "2023-09-01T05:24:54.057369800Z"
    },
    "collapsed": false
   },
   "outputs": [
    {
     "name": "stdout",
     "output_type": "stream",
     "text": [
      "Classification report:\n",
      "               precision    recall  f1-score   support\n",
      "\n",
      "           0       0.83      0.95      0.88       112\n",
      "           1       0.88      0.67      0.76        67\n",
      "\n",
      "    accuracy                           0.84       179\n",
      "   macro avg       0.86      0.81      0.82       179\n",
      "weighted avg       0.85      0.84      0.84       179\n",
      "\n"
     ]
    }
   ],
   "source": [
    "check_score(poly_log_reg, poly_feature_val, y_val)"
   ]
  },
  {
   "cell_type": "markdown",
   "id": "8efb0b016d73027f",
   "metadata": {
    "collapsed": false
   },
   "source": [
    "#### Decision Tree"
   ]
  },
  {
   "cell_type": "code",
   "execution_count": null,
   "id": "7d1dc157d03dcf98",
   "metadata": {
    "ExecuteTime": {
     "end_time": "2023-09-01T05:25:39.003447900Z",
     "start_time": "2023-09-01T05:25:38.882616200Z"
    },
    "collapsed": false
   },
   "outputs": [],
   "source": [
    "from sklearn.tree import DecisionTreeClassifier"
   ]
  },
  {
   "cell_type": "code",
   "execution_count": null,
   "id": "e9172dd62df28745",
   "metadata": {
    "ExecuteTime": {
     "end_time": "2023-09-01T05:29:24.531745300Z",
     "start_time": "2023-09-01T05:29:24.483576400Z"
    },
    "collapsed": false
   },
   "outputs": [
    {
     "data": {
      "text/html": [
       "<style>#sk-container-id-4 {color: black;background-color: white;}#sk-container-id-4 pre{padding: 0;}#sk-container-id-4 div.sk-toggleable {background-color: white;}#sk-container-id-4 label.sk-toggleable__label {cursor: pointer;display: block;width: 100%;margin-bottom: 0;padding: 0.3em;box-sizing: border-box;text-align: center;}#sk-container-id-4 label.sk-toggleable__label-arrow:before {content: \"▸\";float: left;margin-right: 0.25em;color: #696969;}#sk-container-id-4 label.sk-toggleable__label-arrow:hover:before {color: black;}#sk-container-id-4 div.sk-estimator:hover label.sk-toggleable__label-arrow:before {color: black;}#sk-container-id-4 div.sk-toggleable__content {max-height: 0;max-width: 0;overflow: hidden;text-align: left;background-color: #f0f8ff;}#sk-container-id-4 div.sk-toggleable__content pre {margin: 0.2em;color: black;border-radius: 0.25em;background-color: #f0f8ff;}#sk-container-id-4 input.sk-toggleable__control:checked~div.sk-toggleable__content {max-height: 200px;max-width: 100%;overflow: auto;}#sk-container-id-4 input.sk-toggleable__control:checked~label.sk-toggleable__label-arrow:before {content: \"▾\";}#sk-container-id-4 div.sk-estimator input.sk-toggleable__control:checked~label.sk-toggleable__label {background-color: #d4ebff;}#sk-container-id-4 div.sk-label input.sk-toggleable__control:checked~label.sk-toggleable__label {background-color: #d4ebff;}#sk-container-id-4 input.sk-hidden--visually {border: 0;clip: rect(1px 1px 1px 1px);clip: rect(1px, 1px, 1px, 1px);height: 1px;margin: -1px;overflow: hidden;padding: 0;position: absolute;width: 1px;}#sk-container-id-4 div.sk-estimator {font-family: monospace;background-color: #f0f8ff;border: 1px dotted black;border-radius: 0.25em;box-sizing: border-box;margin-bottom: 0.5em;}#sk-container-id-4 div.sk-estimator:hover {background-color: #d4ebff;}#sk-container-id-4 div.sk-parallel-item::after {content: \"\";width: 100%;border-bottom: 1px solid gray;flex-grow: 1;}#sk-container-id-4 div.sk-label:hover label.sk-toggleable__label {background-color: #d4ebff;}#sk-container-id-4 div.sk-serial::before {content: \"\";position: absolute;border-left: 1px solid gray;box-sizing: border-box;top: 0;bottom: 0;left: 50%;z-index: 0;}#sk-container-id-4 div.sk-serial {display: flex;flex-direction: column;align-items: center;background-color: white;padding-right: 0.2em;padding-left: 0.2em;position: relative;}#sk-container-id-4 div.sk-item {position: relative;z-index: 1;}#sk-container-id-4 div.sk-parallel {display: flex;align-items: stretch;justify-content: center;background-color: white;position: relative;}#sk-container-id-4 div.sk-item::before, #sk-container-id-4 div.sk-parallel-item::before {content: \"\";position: absolute;border-left: 1px solid gray;box-sizing: border-box;top: 0;bottom: 0;left: 50%;z-index: -1;}#sk-container-id-4 div.sk-parallel-item {display: flex;flex-direction: column;z-index: 1;position: relative;background-color: white;}#sk-container-id-4 div.sk-parallel-item:first-child::after {align-self: flex-end;width: 50%;}#sk-container-id-4 div.sk-parallel-item:last-child::after {align-self: flex-start;width: 50%;}#sk-container-id-4 div.sk-parallel-item:only-child::after {width: 0;}#sk-container-id-4 div.sk-dashed-wrapped {border: 1px dashed gray;margin: 0 0.4em 0.5em 0.4em;box-sizing: border-box;padding-bottom: 0.4em;background-color: white;}#sk-container-id-4 div.sk-label label {font-family: monospace;font-weight: bold;display: inline-block;line-height: 1.2em;}#sk-container-id-4 div.sk-label-container {text-align: center;}#sk-container-id-4 div.sk-container {/* jupyter's `normalize.less` sets `[hidden] { display: none; }` but bootstrap.min.css set `[hidden] { display: none !important; }` so we also need the `!important` here to be able to override the default hidden behavior on the sphinx rendered scikit-learn.org. See: https://github.com/scikit-learn/scikit-learn/issues/21755 */display: inline-block !important;position: relative;}#sk-container-id-4 div.sk-text-repr-fallback {display: none;}</style><div id=\"sk-container-id-4\" class=\"sk-top-container\"><div class=\"sk-text-repr-fallback\"><pre>DecisionTreeClassifier(criterion=&#x27;entropy&#x27;, max_depth=5)</pre><b>In a Jupyter environment, please rerun this cell to show the HTML representation or trust the notebook. <br />On GitHub, the HTML representation is unable to render, please try loading this page with nbviewer.org.</b></div><div class=\"sk-container\" hidden><div class=\"sk-item\"><div class=\"sk-estimator sk-toggleable\"><input class=\"sk-toggleable__control sk-hidden--visually\" id=\"sk-estimator-id-10\" type=\"checkbox\" checked><label for=\"sk-estimator-id-10\" class=\"sk-toggleable__label sk-toggleable__label-arrow\">DecisionTreeClassifier</label><div class=\"sk-toggleable__content\"><pre>DecisionTreeClassifier(criterion=&#x27;entropy&#x27;, max_depth=5)</pre></div></div></div></div></div>"
      ],
      "text/plain": [
       "DecisionTreeClassifier(criterion='entropy', max_depth=5)"
      ]
     },
     "execution_count": 56,
     "metadata": {},
     "output_type": "execute_result"
    }
   ],
   "source": [
    "decision_tree = DecisionTreeClassifier(criterion='entropy', max_depth= 5)\n",
    "decision_tree.fit(X_train, y_train)"
   ]
  },
  {
   "cell_type": "code",
   "execution_count": null,
   "id": "854cbb6b1556d81e",
   "metadata": {
    "ExecuteTime": {
     "end_time": "2023-09-01T05:29:25.254957500Z",
     "start_time": "2023-09-01T05:29:25.237552100Z"
    },
    "collapsed": false
   },
   "outputs": [
    {
     "data": {
      "text/plain": [
       "0.8268156424581006"
      ]
     },
     "execution_count": 57,
     "metadata": {},
     "output_type": "execute_result"
    }
   ],
   "source": [
    "decision_tree.score(X_val, y_val)"
   ]
  },
  {
   "cell_type": "markdown",
   "id": "c588d4b39650850",
   "metadata": {
    "collapsed": false
   },
   "source": [
    "#### Cross validation"
   ]
  },
  {
   "cell_type": "code",
   "execution_count": null,
   "id": "af9130c23626916",
   "metadata": {
    "ExecuteTime": {
     "end_time": "2023-09-01T05:33:56.657836800Z",
     "start_time": "2023-09-01T05:33:56.595873200Z"
    },
    "collapsed": false
   },
   "outputs": [],
   "source": [
    "from sklearn.model_selection import cross_val_score"
   ]
  },
  {
   "cell_type": "code",
   "execution_count": null,
   "id": "9d2327959833ec0c",
   "metadata": {
    "ExecuteTime": {
     "end_time": "2023-09-01T05:37:17.529046800Z",
     "start_time": "2023-09-01T05:37:17.417309800Z"
    },
    "collapsed": false
   },
   "outputs": [],
   "source": [
    "log_reg_cv = LogisticRegression(solver='liblinear', max_iter=1000)\n",
    "decision_tree_cv = DecisionTreeClassifier()"
   ]
  },
  {
   "cell_type": "code",
   "execution_count": null,
   "id": "64a2bea95bc533d7",
   "metadata": {
    "ExecuteTime": {
     "end_time": "2023-09-01T05:39:28.074288Z",
     "start_time": "2023-09-01T05:39:28.033287900Z"
    },
    "collapsed": false
   },
   "outputs": [
    {
     "name": "stdout",
     "output_type": "stream",
     "text": [
      "0.8137028435126485 0.01591518106220181\n"
     ]
    }
   ],
   "source": [
    "lr_score = cross_val_score(estimator=log_reg_cv, X=X, y=y, scoring='accuracy', cv=5)\n",
    "print(lr_score.mean(), lr_score.std())"
   ]
  },
  {
   "cell_type": "code",
   "execution_count": null,
   "id": "26853401994a2454",
   "metadata": {
    "ExecuteTime": {
     "end_time": "2023-09-01T05:39:05.491390Z",
     "start_time": "2023-09-01T05:39:05.342830600Z"
    },
    "collapsed": false
   },
   "outputs": [
    {
     "name": "stdout",
     "output_type": "stream",
     "text": [
      "[0.82681564 0.80898876 0.80898876 0.78089888 0.85393258]\n"
     ]
    }
   ],
   "source": [
    "dt_score = cross_val_score(estimator=decision_tree, X=X, y=y, scoring='accuracy', cv=5)\n",
    "print(dt_score)"
   ]
  },
  {
   "cell_type": "markdown",
   "id": "22f03801261d1aa3",
   "metadata": {
    "collapsed": false
   },
   "source": [
    "### Baseline Model Comparison"
   ]
  },
  {
   "cell_type": "code",
   "execution_count": null,
   "id": "f5b4ca1ec8fc3e00",
   "metadata": {
    "ExecuteTime": {
     "end_time": "2023-09-01T05:48:15.904839100Z",
     "start_time": "2023-09-01T05:48:15.610566100Z"
    },
    "collapsed": false
   },
   "outputs": [
    {
     "ename": "ModuleNotFoundError",
     "evalue": "No module named 'xgboost'",
     "output_type": "error",
     "traceback": [
      "\u001b[1;31m---------------------------------------------------------------------------\u001b[0m",
      "\u001b[1;31mModuleNotFoundError\u001b[0m                       Traceback (most recent call last)",
      "\u001b[1;32md:\\workspace\\python\\Machine_learning\\Project\\Suprevised\\Titanic\\main.ipynb Cell 87\u001b[0m in \u001b[0;36m4\n\u001b[0;32m      <a href='vscode-notebook-cell:/d%3A/workspace/python/Machine_learning/Project/Suprevised/Titanic/main.ipynb#Y152sZmlsZQ%3D%3D?line=1'>2</a>\u001b[0m \u001b[39mfrom\u001b[39;00m \u001b[39msklearn\u001b[39;00m\u001b[39m.\u001b[39;00m\u001b[39mneighbors\u001b[39;00m \u001b[39mimport\u001b[39;00m KNeighborsClassifier\n\u001b[0;32m      <a href='vscode-notebook-cell:/d%3A/workspace/python/Machine_learning/Project/Suprevised/Titanic/main.ipynb#Y152sZmlsZQ%3D%3D?line=2'>3</a>\u001b[0m \u001b[39mfrom\u001b[39;00m \u001b[39msklearn\u001b[39;00m\u001b[39m.\u001b[39;00m\u001b[39mensemble\u001b[39;00m \u001b[39mimport\u001b[39;00m RandomForestClassifier, GradientBoostingClassifier, ExtraTreesClassifier, AdaBoostClassifier\n\u001b[1;32m----> <a href='vscode-notebook-cell:/d%3A/workspace/python/Machine_learning/Project/Suprevised/Titanic/main.ipynb#Y152sZmlsZQ%3D%3D?line=3'>4</a>\u001b[0m \u001b[39mfrom\u001b[39;00m \u001b[39mxgboost\u001b[39;00m \u001b[39mimport\u001b[39;00m XGBClassifier\n",
      "\u001b[1;31mModuleNotFoundError\u001b[0m: No module named 'xgboost'"
     ]
    }
   ],
   "source": [
    "from sklearn.svm import LinearSVC, SVC\n",
    "from sklearn.neighbors import KNeighborsClassifier\n",
    "from sklearn.ensemble import RandomForestClassifier, GradientBoostingClassifier, ExtraTreesClassifier, AdaBoostClassifier\n",
    "from xgboost import XGBClassifier"
   ]
  },
  {
   "cell_type": "code",
   "execution_count": null,
   "id": "e05267fe298b1a0d",
   "metadata": {
    "ExecuteTime": {
     "end_time": "2023-09-01T06:01:22.713986500Z",
     "start_time": "2023-09-01T06:01:22.667987Z"
    },
    "collapsed": false
   },
   "outputs": [],
   "source": [
    "seed = 2023\n",
    "models = [\n",
    "    SVC(random_state=seed),\n",
    "    LinearSVC(random_state=seed),\n",
    "    KNeighborsClassifier(n_neighbors=2, metric='minkowki'),\n",
    "    RandomForestClassifier(random_state=seed),\n",
    "    GradientBoostingClassifier(random_state=seed),\n",
    "    AdaBoostClassifier(random_state=seed),\n",
    "    LogisticRegression(random_state=seed, solver='liblinear', max_iter=1000),\n",
    "    \n",
    "    XGBClassifier(random_state=seed, use_label_encoder=False, eval_metric='logloss')\n",
    "    \n",
    "]"
   ]
  },
  {
   "cell_type": "code",
   "execution_count": null,
   "id": "8e9d45d7ded7f0e7",
   "metadata": {
    "ExecuteTime": {
     "end_time": "2023-09-01T06:24:29.376759100Z",
     "start_time": "2023-09-01T06:24:27.128438800Z"
    },
    "collapsed": false
   },
   "outputs": [],
   "source": [
    "from sklearn.model_selection import StratifiedKFold\n",
    "\n",
    "def generate_baseline_results(models, X, y, metrics, cv=5, plot_res =False):\n",
    "    k_fold = StratifiedKFold(cv, shuffle=True, random_state=seed)\n",
    "    entries = []\n",
    "    \n",
    "    for model in models: \n",
    "        model_name = model.__class__.__name__\n",
    "        scores = cross_val_score(model, X,y, cv=k_fold, scoring=metrics)\n",
    "        \n",
    "        for fold_idx, score in enumerate(scores):\n",
    "            entries.append((model_name, fold_idx, score))\n",
    "    \n",
    "    cv_df = pd.DataFrame(entries, columns=['Model name', 'fold_id', 'accuracy score'])\n",
    "    \n",
    "    if plot_res:\n",
    "        plt.figure(figsize=(20,6))\n",
    "        sns.boxplot(x='Model name', y='accuracy score', data=cv_df, color='lightblue', showmeans=True)\n",
    "        plt.title('Box plot of Baseline Model accuracy using 5-fold cross-validation')\n",
    "        \n",
    "        plt.xticks(rotation=45, fontsize='12')\n",
    "        plt.yticks(fontsize='12')\n",
    "        \n",
    "        plt.xlabel('Model name', fontsize='16')\n",
    "        plt.ylabel('Accuracy score', fontsize='16')\n",
    "        \n",
    "        \n",
    "    # Summary result\n",
    "    mean = cv_df.groupby('Model name')['accuracy score'].mean()\n",
    "    std = cv_df.groupby('Model name')['accuracy score'].std()\n",
    "    \n",
    "    baseline_result = pd.concat([mean, std], axis=1, ignore_index=True)\n",
    "    baseline_result.columns = ['Mean', 'Standard Deviation']\n",
    "    \n",
    "    # Sort by Accuracy \n",
    "    baseline_result.sort_values(by=['Mean'], ascending=False, inplace=True)\n",
    "    \n",
    "    \n",
    "    return baseline_result\n",
    "generate_baseline_results(models, X, y ,metrics='accuracy', plot_res=True)\n",
    "        "
   ]
  },
  {
   "cell_type": "code",
   "execution_count": null,
   "id": "25871ccb9942728f",
   "metadata": {
    "ExecuteTime": {
     "end_time": "2023-09-01T06:37:06.663325200Z",
     "start_time": "2023-09-01T06:37:06.588813600Z"
    },
    "collapsed": false
   },
   "outputs": [
    {
     "name": "stdout",
     "output_type": "stream",
     "text": [
      "Precision: 0.6666666666666665\n"
     ]
    }
   ],
   "source": [
    "from sklearn.metrics import precision_score, recall_score, f1_score\n",
    "\n",
    "y_true = [1, 0, 1, 1, 0, 1, 0, 0]\n",
    "y_pred = [1, 0, 0, 1, 1, 1, 0, 1]\n",
    "\n",
    "precision = f1_score(y_true, y_pred)\n",
    "print(\"Precision:\", precision)\n"
   ]
  },
  {
   "cell_type": "code",
   "execution_count": null,
   "id": "2bec773f",
   "metadata": {},
   "outputs": [],
   "source": []
  }
 ],
 "metadata": {
  "kernelspec": {
   "display_name": "Python 3",
   "language": "python",
   "name": "python3"
  },
  "language_info": {
   "codemirror_mode": {
    "name": "ipython",
    "version": 3
   },
   "file_extension": ".py",
   "mimetype": "text/x-python",
   "name": "python",
   "nbconvert_exporter": "python",
   "pygments_lexer": "ipython3",
   "version": "3.10.7"
  }
 },
 "nbformat": 4,
 "nbformat_minor": 5
}
