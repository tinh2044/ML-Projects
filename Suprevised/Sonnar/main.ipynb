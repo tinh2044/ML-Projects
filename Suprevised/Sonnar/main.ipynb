{
 "cells": [
  {
   "cell_type": "code",
   "execution_count": 1,
   "metadata": {
    "ExecuteTime": {
     "end_time": "2023-08-04T04:30:54.007109600Z",
     "start_time": "2023-08-04T04:30:51.917112200Z"
    }
   },
   "outputs": [
    {
     "name": "stderr",
     "output_type": "stream",
     "text": [
      "C:\\ProgramData\\Anaconda3\\lib\\site-packages\\scipy\\__init__.py:146: UserWarning: A NumPy version >=1.16.5 and <1.23.0 is required for this version of SciPy (detected version 1.24.3\n",
      "  warnings.warn(f\"A NumPy version >={np_minversion} and <{np_maxversion}\"\n"
     ]
    }
   ],
   "source": [
    "import numpy as np\n",
    "import pandas as pd\n",
    "from sklearn.model_selection import train_test_split\n",
    "# from sklearn.linear_model import LogisticRegression\n",
    "from sklearn.metrics import accuracy_score"
   ]
  },
  {
   "attachments": {},
   "cell_type": "markdown",
   "metadata": {},
   "source": [
    "### Data collection and data processing"
   ]
  },
  {
   "cell_type": "code",
   "execution_count": 2,
   "metadata": {
    "ExecuteTime": {
     "end_time": "2023-08-04T04:30:54.053506100Z",
     "start_time": "2023-08-04T04:30:54.006107800Z"
    }
   },
   "outputs": [],
   "source": [
    "sonar_data = pd.read_csv('./data.csv',header=None)\n",
    "# sonar_data = np.array(sonar_data)"
   ]
  },
  {
   "cell_type": "code",
   "execution_count": 3,
   "metadata": {
    "ExecuteTime": {
     "end_time": "2023-08-04T04:30:54.054533400Z",
     "start_time": "2023-08-04T04:30:54.032690100Z"
    }
   },
   "outputs": [],
   "source": [
    "X = sonar_data.iloc[:,:-1]\n",
    "y = sonar_data.iloc[:,-1]\n"
   ]
  },
  {
   "attachments": {},
   "cell_type": "markdown",
   "metadata": {},
   "source": [
    "### Training and testing"
   ]
  },
  {
   "cell_type": "code",
   "execution_count": 4,
   "metadata": {
    "ExecuteTime": {
     "end_time": "2023-08-04T04:30:54.077680700Z",
     "start_time": "2023-08-04T04:30:54.049127300Z"
    }
   },
   "outputs": [],
   "source": [
    "X_train, X_test, y_train, y_test = train_test_split(X,y, test_size=0.1, random_state=1)"
   ]
  },
  {
   "cell_type": "code",
   "execution_count": 5,
   "metadata": {
    "ExecuteTime": {
     "end_time": "2023-08-04T04:31:01.473161300Z",
     "start_time": "2023-08-04T04:30:54.069068700Z"
    }
   },
   "outputs": [],
   "source": [
    "class Logistic_Regression():\n",
    "    def __init__(self, max_iter,learning_rate):\n",
    "        self.max_iter = max_iter\n",
    "        self.learning_rate = learning_rate\n",
    "        self.z = None\n",
    "        self.lambda_param = 0.01\n",
    "    \n",
    "    def fit(self, X, y):\n",
    "        self.X_train = np.concatenate((X,np.ones((X.shape[0],1))),axis=1)\n",
    "        self.labels = np.unique(y)\n",
    "        self.y_train = self.covert_y(y)\n",
    "        self.theta = np.zeros(self.X_train.shape[1])\n",
    "        self.training()\n",
    "        \n",
    "        \n",
    "    def covert_y(self,y):\n",
    "        unique = np.unique(y)\n",
    "        \n",
    "        return np.where(y==unique[0],0,1)\n",
    "        \n",
    "    \n",
    "    def sigmoid(self,z):\n",
    "        return 1/(1+np.exp(-z))\n",
    "    \n",
    "    def cost_function(self):\n",
    "        y_hat = self.sigmoid(self.X_train@self.theta)\n",
    "        J = -np.mean(self.y_train*np.log(y_hat)+(1-self.y_train)*np.log(1-y_hat))\n",
    "        return J\n",
    "    \n",
    "    def training(self):\n",
    "        self.cost = self.cost_function()\n",
    "        \n",
    "        for i in range(self.max_iter):\n",
    "            y_pred = self.sigmoid(self.X_train@self.theta)\n",
    "            gd = self.X_train.T@(y_pred - self.y_train)/len(self.y_train)\n",
    "            \n",
    "            self.theta -= gd*self.learning_rate\n",
    "            self.cost = self.cost_function()\n",
    "            \n",
    "        return self.theta\n",
    "    \n",
    "    def predict(self,X):\n",
    "       \n",
    "        X = np.concatenate((X,np.ones((X.shape[0],1))),axis=1)\n",
    "        \n",
    "        pred = np.array([self.sigmoid(x@self.theta) for x in X])\n",
    "        \n",
    "        pred = np.where(pred >=0.5, 1,0)\n",
    "        \n",
    "        return np.array([self.labels[x] for x in pred])\n",
    "        \n",
    "    def accuracy(self,X,y):\n",
    "        pred = self.predict(X)\n",
    "        \n",
    "        return accuracy_score(pred,y)\n",
    "    \n",
    "ls_model = Logistic_Regression(max_iter=30000,learning_rate=0.001)\n",
    "ls_model.fit(X_train,y_train)"
   ]
  },
  {
   "cell_type": "code",
   "execution_count": 6,
   "metadata": {
    "ExecuteTime": {
     "end_time": "2023-08-04T04:31:01.480733500Z",
     "start_time": "2023-08-04T04:31:01.447167100Z"
    }
   },
   "outputs": [
    {
     "data": {
      "text/plain": "0.8095238095238095"
     },
     "execution_count": 6,
     "metadata": {},
     "output_type": "execute_result"
    }
   ],
   "source": [
    "# accuracy\n",
    "ls_model.accuracy(X_test, y_test)"
   ]
  },
  {
   "cell_type": "code",
   "execution_count": 7,
   "metadata": {
    "ExecuteTime": {
     "end_time": "2023-08-04T04:31:01.497322200Z",
     "start_time": "2023-08-04T04:31:01.480733500Z"
    }
   },
   "outputs": [
    {
     "data": {
      "text/plain": "0.7700534759358288"
     },
     "execution_count": 7,
     "metadata": {},
     "output_type": "execute_result"
    }
   ],
   "source": [
    "ls_model.accuracy(X_train, y_train)"
   ]
  },
  {
   "cell_type": "code",
   "execution_count": 8,
   "metadata": {
    "ExecuteTime": {
     "end_time": "2023-08-04T04:31:48.665355400Z",
     "start_time": "2023-08-04T04:31:48.461915400Z"
    }
   },
   "outputs": [
    {
     "data": {
      "text/plain": "LogisticRegression()"
     },
     "execution_count": 8,
     "metadata": {},
     "output_type": "execute_result"
    }
   ],
   "source": [
    "from sklearn.linear_model import LogisticRegression\n",
    "model = LogisticRegression()\n",
    "model.fit(X_train, y_train)"
   ]
  },
  {
   "cell_type": "code",
   "execution_count": 14,
   "metadata": {
    "ExecuteTime": {
     "end_time": "2023-08-04T04:33:42.262920Z",
     "start_time": "2023-08-04T04:33:42.229582300Z"
    }
   },
   "outputs": [],
   "source": [
    "import pickle\n",
    "pickle_out = open(\"model_flask.pkl\", \"wb\")\n",
    "pickle.dump(model, pickle_out)\n",
    "load_model = pickle.load(open(\"model_flask.pkl\", \"rb\"))"
   ]
  },
  {
   "cell_type": "code",
   "execution_count": null,
   "outputs": [],
   "source": [],
   "metadata": {
    "collapsed": false
   }
  }
 ],
 "metadata": {
  "kernelspec": {
   "display_name": "Python 3",
   "language": "python",
   "name": "python3"
  },
  "language_info": {
   "codemirror_mode": {
    "name": "ipython",
    "version": 3
   },
   "file_extension": ".py",
   "mimetype": "text/x-python",
   "name": "python",
   "nbconvert_exporter": "python",
   "pygments_lexer": "ipython3",
   "version": "3.10.7"
  },
  "orig_nbformat": 4
 },
 "nbformat": 4,
 "nbformat_minor": 2
}
