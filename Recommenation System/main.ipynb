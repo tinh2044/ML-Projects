{
 "cells": [
  {
   "cell_type": "markdown",
   "source": [
    "# This is a project about recommendation system using based content"
   ],
   "metadata": {
    "collapsed": false
   },
   "id": "8c76eb716318cab2"
  },
  {
   "cell_type": "code",
   "execution_count": 1,
   "id": "initial_id",
   "metadata": {
    "collapsed": true,
    "ExecuteTime": {
     "end_time": "2024-04-01T05:53:28.771782300Z",
     "start_time": "2024-04-01T05:53:25.993064800Z"
    }
   },
   "outputs": [],
   "source": [
    "#Import library\n",
    "import numpy as np\n",
    "import pandas as pd\n",
    "import difflib\n",
    "from sklearn.feature_extraction.text import  TfidfVectorizer\n",
    "from sklearn.metrics.pairwise import cosine_similarity\n",
    "from sphinx.addnodes import index"
   ]
  },
  {
   "cell_type": "markdown",
   "source": [
    "# Data collection and Data pre-processing"
   ],
   "metadata": {
    "collapsed": false
   },
   "id": "6e03b077f8d934a2"
  },
  {
   "cell_type": "code",
   "execution_count": 2,
   "outputs": [
    {
     "data": {
      "text/plain": "   index     budget                                    genres  \\\n0      0  237000000  Action Adventure Fantasy Science Fiction   \n1      1  300000000                  Adventure Fantasy Action   \n2      2  245000000                    Action Adventure Crime   \n3      3  250000000               Action Crime Drama Thriller   \n4      4  260000000          Action Adventure Science Fiction   \n\n                                       homepage      id  \\\n0                   http://www.avatarmovie.com/   19995   \n1  http://disney.go.com/disneypictures/pirates/     285   \n2   http://www.sonypictures.com/movies/spectre/  206647   \n3            http://www.thedarkknightrises.com/   49026   \n4          http://movies.disney.com/john-carter   49529   \n\n                                            keywords original_language  \\\n0  culture clash future space war space colony so...                en   \n1  ocean drug abuse exotic island east india trad...                en   \n2         spy based on novel secret agent sequel mi6                en   \n3  dc comics crime fighter terrorist secret ident...                en   \n4  based on novel mars medallion space travel pri...                en   \n\n                             original_title  \\\n0                                    Avatar   \n1  Pirates of the Caribbean: At World's End   \n2                                   Spectre   \n3                     The Dark Knight Rises   \n4                               John Carter   \n\n                                            overview  popularity  ... runtime  \\\n0  In the 22nd century, a paraplegic Marine is di...  150.437577  ...   162.0   \n1  Captain Barbossa, long believed to be dead, ha...  139.082615  ...   169.0   \n2  A cryptic message from Bond’s past sends him o...  107.376788  ...   148.0   \n3  Following the death of District Attorney Harve...  112.312950  ...   165.0   \n4  John Carter is a war-weary, former military ca...   43.926995  ...   132.0   \n\n                                    spoken_languages    status  \\\n0  [{\"iso_639_1\": \"en\", \"name\": \"English\"}, {\"iso...  Released   \n1           [{\"iso_639_1\": \"en\", \"name\": \"English\"}]  Released   \n2  [{\"iso_639_1\": \"fr\", \"name\": \"Fran\\u00e7ais\"},...  Released   \n3           [{\"iso_639_1\": \"en\", \"name\": \"English\"}]  Released   \n4           [{\"iso_639_1\": \"en\", \"name\": \"English\"}]  Released   \n\n                                          tagline  \\\n0                     Enter the World of Pandora.   \n1  At the end of the world, the adventure begins.   \n2                           A Plan No One Escapes   \n3                                 The Legend Ends   \n4            Lost in our world, found in another.   \n\n                                      title vote_average vote_count  \\\n0                                    Avatar          7.2      11800   \n1  Pirates of the Caribbean: At World's End          6.9       4500   \n2                                   Spectre          6.3       4466   \n3                     The Dark Knight Rises          7.6       9106   \n4                               John Carter          6.1       2124   \n\n                                                cast  \\\n0  Sam Worthington Zoe Saldana Sigourney Weaver S...   \n1  Johnny Depp Orlando Bloom Keira Knightley Stel...   \n2  Daniel Craig Christoph Waltz L\\u00e9a Seydoux ...   \n3  Christian Bale Michael Caine Gary Oldman Anne ...   \n4  Taylor Kitsch Lynn Collins Samantha Morton Wil...   \n\n                                                crew           director  \n0  [{'name': 'Stephen E. Rivkin', 'gender': 0, 'd...      James Cameron  \n1  [{'name': 'Dariusz Wolski', 'gender': 2, 'depa...     Gore Verbinski  \n2  [{'name': 'Thomas Newman', 'gender': 2, 'depar...         Sam Mendes  \n3  [{'name': 'Hans Zimmer', 'gender': 2, 'departm...  Christopher Nolan  \n4  [{'name': 'Andrew Stanton', 'gender': 2, 'depa...     Andrew Stanton  \n\n[5 rows x 24 columns]",
      "text/html": "<div>\n<style scoped>\n    .dataframe tbody tr th:only-of-type {\n        vertical-align: middle;\n    }\n\n    .dataframe tbody tr th {\n        vertical-align: top;\n    }\n\n    .dataframe thead th {\n        text-align: right;\n    }\n</style>\n<table border=\"1\" class=\"dataframe\">\n  <thead>\n    <tr style=\"text-align: right;\">\n      <th></th>\n      <th>index</th>\n      <th>budget</th>\n      <th>genres</th>\n      <th>homepage</th>\n      <th>id</th>\n      <th>keywords</th>\n      <th>original_language</th>\n      <th>original_title</th>\n      <th>overview</th>\n      <th>popularity</th>\n      <th>...</th>\n      <th>runtime</th>\n      <th>spoken_languages</th>\n      <th>status</th>\n      <th>tagline</th>\n      <th>title</th>\n      <th>vote_average</th>\n      <th>vote_count</th>\n      <th>cast</th>\n      <th>crew</th>\n      <th>director</th>\n    </tr>\n  </thead>\n  <tbody>\n    <tr>\n      <th>0</th>\n      <td>0</td>\n      <td>237000000</td>\n      <td>Action Adventure Fantasy Science Fiction</td>\n      <td>http://www.avatarmovie.com/</td>\n      <td>19995</td>\n      <td>culture clash future space war space colony so...</td>\n      <td>en</td>\n      <td>Avatar</td>\n      <td>In the 22nd century, a paraplegic Marine is di...</td>\n      <td>150.437577</td>\n      <td>...</td>\n      <td>162.0</td>\n      <td>[{\"iso_639_1\": \"en\", \"name\": \"English\"}, {\"iso...</td>\n      <td>Released</td>\n      <td>Enter the World of Pandora.</td>\n      <td>Avatar</td>\n      <td>7.2</td>\n      <td>11800</td>\n      <td>Sam Worthington Zoe Saldana Sigourney Weaver S...</td>\n      <td>[{'name': 'Stephen E. Rivkin', 'gender': 0, 'd...</td>\n      <td>James Cameron</td>\n    </tr>\n    <tr>\n      <th>1</th>\n      <td>1</td>\n      <td>300000000</td>\n      <td>Adventure Fantasy Action</td>\n      <td>http://disney.go.com/disneypictures/pirates/</td>\n      <td>285</td>\n      <td>ocean drug abuse exotic island east india trad...</td>\n      <td>en</td>\n      <td>Pirates of the Caribbean: At World's End</td>\n      <td>Captain Barbossa, long believed to be dead, ha...</td>\n      <td>139.082615</td>\n      <td>...</td>\n      <td>169.0</td>\n      <td>[{\"iso_639_1\": \"en\", \"name\": \"English\"}]</td>\n      <td>Released</td>\n      <td>At the end of the world, the adventure begins.</td>\n      <td>Pirates of the Caribbean: At World's End</td>\n      <td>6.9</td>\n      <td>4500</td>\n      <td>Johnny Depp Orlando Bloom Keira Knightley Stel...</td>\n      <td>[{'name': 'Dariusz Wolski', 'gender': 2, 'depa...</td>\n      <td>Gore Verbinski</td>\n    </tr>\n    <tr>\n      <th>2</th>\n      <td>2</td>\n      <td>245000000</td>\n      <td>Action Adventure Crime</td>\n      <td>http://www.sonypictures.com/movies/spectre/</td>\n      <td>206647</td>\n      <td>spy based on novel secret agent sequel mi6</td>\n      <td>en</td>\n      <td>Spectre</td>\n      <td>A cryptic message from Bond’s past sends him o...</td>\n      <td>107.376788</td>\n      <td>...</td>\n      <td>148.0</td>\n      <td>[{\"iso_639_1\": \"fr\", \"name\": \"Fran\\u00e7ais\"},...</td>\n      <td>Released</td>\n      <td>A Plan No One Escapes</td>\n      <td>Spectre</td>\n      <td>6.3</td>\n      <td>4466</td>\n      <td>Daniel Craig Christoph Waltz L\\u00e9a Seydoux ...</td>\n      <td>[{'name': 'Thomas Newman', 'gender': 2, 'depar...</td>\n      <td>Sam Mendes</td>\n    </tr>\n    <tr>\n      <th>3</th>\n      <td>3</td>\n      <td>250000000</td>\n      <td>Action Crime Drama Thriller</td>\n      <td>http://www.thedarkknightrises.com/</td>\n      <td>49026</td>\n      <td>dc comics crime fighter terrorist secret ident...</td>\n      <td>en</td>\n      <td>The Dark Knight Rises</td>\n      <td>Following the death of District Attorney Harve...</td>\n      <td>112.312950</td>\n      <td>...</td>\n      <td>165.0</td>\n      <td>[{\"iso_639_1\": \"en\", \"name\": \"English\"}]</td>\n      <td>Released</td>\n      <td>The Legend Ends</td>\n      <td>The Dark Knight Rises</td>\n      <td>7.6</td>\n      <td>9106</td>\n      <td>Christian Bale Michael Caine Gary Oldman Anne ...</td>\n      <td>[{'name': 'Hans Zimmer', 'gender': 2, 'departm...</td>\n      <td>Christopher Nolan</td>\n    </tr>\n    <tr>\n      <th>4</th>\n      <td>4</td>\n      <td>260000000</td>\n      <td>Action Adventure Science Fiction</td>\n      <td>http://movies.disney.com/john-carter</td>\n      <td>49529</td>\n      <td>based on novel mars medallion space travel pri...</td>\n      <td>en</td>\n      <td>John Carter</td>\n      <td>John Carter is a war-weary, former military ca...</td>\n      <td>43.926995</td>\n      <td>...</td>\n      <td>132.0</td>\n      <td>[{\"iso_639_1\": \"en\", \"name\": \"English\"}]</td>\n      <td>Released</td>\n      <td>Lost in our world, found in another.</td>\n      <td>John Carter</td>\n      <td>6.1</td>\n      <td>2124</td>\n      <td>Taylor Kitsch Lynn Collins Samantha Morton Wil...</td>\n      <td>[{'name': 'Andrew Stanton', 'gender': 2, 'depa...</td>\n      <td>Andrew Stanton</td>\n    </tr>\n  </tbody>\n</table>\n<p>5 rows × 24 columns</p>\n</div>"
     },
     "execution_count": 2,
     "metadata": {},
     "output_type": "execute_result"
    }
   ],
   "source": [
    "# loading data \n",
    "data = pd.read_csv('./movies.csv')\n",
    "data.head()"
   ],
   "metadata": {
    "collapsed": false,
    "ExecuteTime": {
     "end_time": "2024-04-01T05:53:43.234884Z",
     "start_time": "2024-04-01T05:53:42.703179900Z"
    }
   },
   "id": "a3b3ba37a9a07f35"
  },
  {
   "cell_type": "code",
   "execution_count": 3,
   "outputs": [
    {
     "name": "stdout",
     "output_type": "stream",
     "text": [
      "['index', 'budget', 'genres', 'homepage', 'id', 'keywords', 'original_language', 'original_title', 'overview', 'popularity', 'production_companies', 'production_countries', 'release_date', 'revenue', 'runtime', 'spoken_languages', 'status', 'tagline', 'title', 'vote_average', 'vote_count', 'cast', 'crew', 'director']\n"
     ]
    }
   ],
   "source": [
    "col_data = data.columns.to_list()\n",
    "print(col_data)"
   ],
   "metadata": {
    "collapsed": false,
    "ExecuteTime": {
     "end_time": "2024-04-01T05:53:46.556772500Z",
     "start_time": "2024-04-01T05:53:46.507251100Z"
    }
   },
   "id": "9e85f823f92808f5"
  },
  {
   "cell_type": "code",
   "execution_count": 4,
   "outputs": [
    {
     "data": {
      "text/plain": "(4803, 24)"
     },
     "execution_count": 4,
     "metadata": {},
     "output_type": "execute_result"
    }
   ],
   "source": [
    "#Number of rows and columns in dataset\n",
    "data.shape"
   ],
   "metadata": {
    "collapsed": false,
    "ExecuteTime": {
     "end_time": "2024-04-01T05:53:50.642741700Z",
     "start_time": "2024-04-01T05:53:50.588798100Z"
    }
   },
   "id": "2c9f98608661fdb8"
  },
  {
   "cell_type": "code",
   "execution_count": 5,
   "outputs": [
    {
     "name": "stdout",
     "output_type": "stream",
     "text": [
      "<class 'pandas.core.frame.DataFrame'>\n",
      "RangeIndex: 4803 entries, 0 to 4802\n",
      "Data columns (total 24 columns):\n",
      " #   Column                Non-Null Count  Dtype  \n",
      "---  ------                --------------  -----  \n",
      " 0   index                 4803 non-null   int64  \n",
      " 1   budget                4803 non-null   int64  \n",
      " 2   genres                4775 non-null   object \n",
      " 3   homepage              1712 non-null   object \n",
      " 4   id                    4803 non-null   int64  \n",
      " 5   keywords              4391 non-null   object \n",
      " 6   original_language     4803 non-null   object \n",
      " 7   original_title        4803 non-null   object \n",
      " 8   overview              4800 non-null   object \n",
      " 9   popularity            4803 non-null   float64\n",
      " 10  production_companies  4803 non-null   object \n",
      " 11  production_countries  4803 non-null   object \n",
      " 12  release_date          4802 non-null   object \n",
      " 13  revenue               4803 non-null   int64  \n",
      " 14  runtime               4801 non-null   float64\n",
      " 15  spoken_languages      4803 non-null   object \n",
      " 16  status                4803 non-null   object \n",
      " 17  tagline               3959 non-null   object \n",
      " 18  title                 4803 non-null   object \n",
      " 19  vote_average          4803 non-null   float64\n",
      " 20  vote_count            4803 non-null   int64  \n",
      " 21  cast                  4760 non-null   object \n",
      " 22  crew                  4803 non-null   object \n",
      " 23  director              4773 non-null   object \n",
      "dtypes: float64(3), int64(5), object(16)\n",
      "memory usage: 900.7+ KB\n"
     ]
    }
   ],
   "source": [
    "data.info()"
   ],
   "metadata": {
    "collapsed": false,
    "ExecuteTime": {
     "end_time": "2024-04-01T05:53:51.767153600Z",
     "start_time": "2024-04-01T05:53:51.717319Z"
    }
   },
   "id": "91ccf25f7bdce067"
  },
  {
   "cell_type": "markdown",
   "source": [
    "### Summary \n",
    "- Categorical: original_language, status, director\n",
    "- Numerical(continuous): index, budget, id\n",
    "- Numerical(discrete): popularity, vote, runtimes, vote_average, vote_count\n",
    "- String: genres, keywords, original_title\n",
    "- Object: spoken_language, production_companies, production_countries, crew\n",
    "- Date: release_date"
   ],
   "metadata": {
    "collapsed": false
   },
   "id": "6a4f671222ebc864"
  },
  {
   "cell_type": "code",
   "execution_count": 6,
   "outputs": [
    {
     "name": "stdout",
     "output_type": "stream",
     "text": [
      "Colum genres has 0.58% value has been lost\n",
      "Colum homepage has 64.36% value has been lost\n",
      "Colum keywords has 8.58% value has been lost\n",
      "Colum overview has 0.06% value has been lost\n",
      "Colum release_date has 0.02% value has been lost\n",
      "Colum runtime has 0.04% value has been lost\n",
      "Colum tagline has 17.57% value has been lost\n",
      "Colum cast has 0.90% value has been lost\n",
      "Colum director has 0.62% value has been lost\n"
     ]
    }
   ],
   "source": [
    "missed_col = []\n",
    "for col in col_data:\n",
    "    missing_count = data[col].isnull().sum()\n",
    "    \n",
    "    if missing_count > 0:\n",
    "        missed_col.append(col)\n",
    "        print(f'Colum {col} has {missing_count*100 / data.shape[0]:.2f}% value has been lost')"
   ],
   "metadata": {
    "collapsed": false,
    "ExecuteTime": {
     "end_time": "2024-04-01T05:53:59.781089900Z",
     "start_time": "2024-04-01T05:53:59.749610700Z"
    }
   },
   "id": "8297f3f49f5246f2"
  },
  {
   "cell_type": "markdown",
   "source": [
    "#### Because type of missed columns is `string`, so we will fill missing value by empty string "
   ],
   "metadata": {
    "collapsed": false
   },
   "id": "d8ffd77d3ec5cf72"
  },
  {
   "cell_type": "code",
   "execution_count": 7,
   "outputs": [],
   "source": [
    "for col in missed_col:\n",
    "    data[col].fillna(\"\" , inplace=True)"
   ],
   "metadata": {
    "collapsed": false,
    "ExecuteTime": {
     "end_time": "2024-04-01T05:54:05.544729800Z",
     "start_time": "2024-04-01T05:54:05.512955600Z"
    }
   },
   "id": "5719e28d4886a42a"
  },
  {
   "cell_type": "code",
   "execution_count": 8,
   "outputs": [
    {
     "name": "stdout",
     "output_type": "stream",
     "text": [
      "index                            int64\n",
      "budget                           int64\n",
      "genres                          object\n",
      "homepage                        object\n",
      "id                               int64\n",
      "keywords                        object\n",
      "original_language             category\n",
      "original_title                  object\n",
      "overview                        object\n",
      "popularity                     float64\n",
      "production_companies            object\n",
      "production_countries            object\n",
      "release_date            datetime64[ns]\n",
      "revenue                          int64\n",
      "runtime                         object\n",
      "spoken_languages                object\n",
      "status                        category\n",
      "tagline                         object\n",
      "title                           object\n",
      "vote_average                   float64\n",
      "vote_count                       int64\n",
      "cast                            object\n",
      "crew                            object\n",
      "director                      category\n",
      "dtype: object\n"
     ]
    }
   ],
   "source": [
    "key_args = {\n",
    "    'original_language' : 'category',\n",
    "    'status' : 'category',\n",
    "    'director' : 'category',\n",
    "}\n",
    "data['release_date'] = pd.to_datetime(data['release_date'])\n",
    "data = data.astype(key_args)\n",
    "print(data.dtypes)"
   ],
   "metadata": {
    "collapsed": false,
    "ExecuteTime": {
     "end_time": "2024-04-01T05:54:12.113593300Z",
     "start_time": "2024-04-01T05:54:12.065643Z"
    }
   },
   "id": "c3f33226cf0834be"
  },
  {
   "cell_type": "markdown",
   "source": [
    "### Distribution of Numerical features"
   ],
   "metadata": {
    "collapsed": false
   },
   "id": "f3cfbd4be1a6f520"
  },
  {
   "cell_type": "code",
   "execution_count": 9,
   "outputs": [
    {
     "data": {
      "text/plain": "             index        budget             id   popularity  \\\ncount  4803.000000  4.803000e+03    4803.000000  4803.000000   \nmean   2401.000000  2.904504e+07   57165.484281    21.492301   \nmin       0.000000  0.000000e+00       5.000000     0.000000   \n25%    1200.500000  7.900000e+05    9014.500000     4.668070   \n50%    2401.000000  1.500000e+07   14629.000000    12.921594   \n75%    3601.500000  4.000000e+07   58610.500000    28.313505   \nmax    4802.000000  3.800000e+08  459488.000000   875.581305   \nstd    1386.651002  4.072239e+07   88694.614033    31.816650   \n\n                        release_date       revenue  vote_average    vote_count  \ncount                           4802  4.803000e+03   4803.000000   4803.000000  \nmean   2002-12-27 23:45:54.352353280  8.226064e+07      6.092172    690.217989  \nmin              1916-09-04 00:00:00  0.000000e+00      0.000000      0.000000  \n25%              1999-07-14 00:00:00  0.000000e+00      5.600000     54.000000  \n50%              2005-10-03 00:00:00  1.917000e+07      6.200000    235.000000  \n75%              2011-02-16 00:00:00  9.291719e+07      6.800000    737.000000  \nmax              2017-02-03 00:00:00  2.787965e+09     10.000000  13752.000000  \nstd                              NaN  1.628571e+08      1.194612   1234.585891  ",
      "text/html": "<div>\n<style scoped>\n    .dataframe tbody tr th:only-of-type {\n        vertical-align: middle;\n    }\n\n    .dataframe tbody tr th {\n        vertical-align: top;\n    }\n\n    .dataframe thead th {\n        text-align: right;\n    }\n</style>\n<table border=\"1\" class=\"dataframe\">\n  <thead>\n    <tr style=\"text-align: right;\">\n      <th></th>\n      <th>index</th>\n      <th>budget</th>\n      <th>id</th>\n      <th>popularity</th>\n      <th>release_date</th>\n      <th>revenue</th>\n      <th>vote_average</th>\n      <th>vote_count</th>\n    </tr>\n  </thead>\n  <tbody>\n    <tr>\n      <th>count</th>\n      <td>4803.000000</td>\n      <td>4.803000e+03</td>\n      <td>4803.000000</td>\n      <td>4803.000000</td>\n      <td>4802</td>\n      <td>4.803000e+03</td>\n      <td>4803.000000</td>\n      <td>4803.000000</td>\n    </tr>\n    <tr>\n      <th>mean</th>\n      <td>2401.000000</td>\n      <td>2.904504e+07</td>\n      <td>57165.484281</td>\n      <td>21.492301</td>\n      <td>2002-12-27 23:45:54.352353280</td>\n      <td>8.226064e+07</td>\n      <td>6.092172</td>\n      <td>690.217989</td>\n    </tr>\n    <tr>\n      <th>min</th>\n      <td>0.000000</td>\n      <td>0.000000e+00</td>\n      <td>5.000000</td>\n      <td>0.000000</td>\n      <td>1916-09-04 00:00:00</td>\n      <td>0.000000e+00</td>\n      <td>0.000000</td>\n      <td>0.000000</td>\n    </tr>\n    <tr>\n      <th>25%</th>\n      <td>1200.500000</td>\n      <td>7.900000e+05</td>\n      <td>9014.500000</td>\n      <td>4.668070</td>\n      <td>1999-07-14 00:00:00</td>\n      <td>0.000000e+00</td>\n      <td>5.600000</td>\n      <td>54.000000</td>\n    </tr>\n    <tr>\n      <th>50%</th>\n      <td>2401.000000</td>\n      <td>1.500000e+07</td>\n      <td>14629.000000</td>\n      <td>12.921594</td>\n      <td>2005-10-03 00:00:00</td>\n      <td>1.917000e+07</td>\n      <td>6.200000</td>\n      <td>235.000000</td>\n    </tr>\n    <tr>\n      <th>75%</th>\n      <td>3601.500000</td>\n      <td>4.000000e+07</td>\n      <td>58610.500000</td>\n      <td>28.313505</td>\n      <td>2011-02-16 00:00:00</td>\n      <td>9.291719e+07</td>\n      <td>6.800000</td>\n      <td>737.000000</td>\n    </tr>\n    <tr>\n      <th>max</th>\n      <td>4802.000000</td>\n      <td>3.800000e+08</td>\n      <td>459488.000000</td>\n      <td>875.581305</td>\n      <td>2017-02-03 00:00:00</td>\n      <td>2.787965e+09</td>\n      <td>10.000000</td>\n      <td>13752.000000</td>\n    </tr>\n    <tr>\n      <th>std</th>\n      <td>1386.651002</td>\n      <td>4.072239e+07</td>\n      <td>88694.614033</td>\n      <td>31.816650</td>\n      <td>NaN</td>\n      <td>1.628571e+08</td>\n      <td>1.194612</td>\n      <td>1234.585891</td>\n    </tr>\n  </tbody>\n</table>\n</div>"
     },
     "execution_count": 9,
     "metadata": {},
     "output_type": "execute_result"
    }
   ],
   "source": [
    "data.describe()"
   ],
   "metadata": {
    "collapsed": false,
    "ExecuteTime": {
     "end_time": "2024-04-01T05:54:31.214787100Z",
     "start_time": "2024-04-01T05:54:31.172257200Z"
    }
   },
   "id": "3610bd779ad9f9b"
  },
  {
   "cell_type": "markdown",
   "source": [
    "### Distribution of category features"
   ],
   "metadata": {
    "collapsed": false
   },
   "id": "5e3c9cfb817cfb7a"
  },
  {
   "cell_type": "code",
   "execution_count": 10,
   "outputs": [
    {
     "data": {
      "text/plain": "       original_language    status director\ncount               4803      4803     4803\nunique                37         3     2350\ntop                   en  Released         \nfreq                4505      4795       30",
      "text/html": "<div>\n<style scoped>\n    .dataframe tbody tr th:only-of-type {\n        vertical-align: middle;\n    }\n\n    .dataframe tbody tr th {\n        vertical-align: top;\n    }\n\n    .dataframe thead th {\n        text-align: right;\n    }\n</style>\n<table border=\"1\" class=\"dataframe\">\n  <thead>\n    <tr style=\"text-align: right;\">\n      <th></th>\n      <th>original_language</th>\n      <th>status</th>\n      <th>director</th>\n    </tr>\n  </thead>\n  <tbody>\n    <tr>\n      <th>count</th>\n      <td>4803</td>\n      <td>4803</td>\n      <td>4803</td>\n    </tr>\n    <tr>\n      <th>unique</th>\n      <td>37</td>\n      <td>3</td>\n      <td>2350</td>\n    </tr>\n    <tr>\n      <th>top</th>\n      <td>en</td>\n      <td>Released</td>\n      <td></td>\n    </tr>\n    <tr>\n      <th>freq</th>\n      <td>4505</td>\n      <td>4795</td>\n      <td>30</td>\n    </tr>\n  </tbody>\n</table>\n</div>"
     },
     "execution_count": 10,
     "metadata": {},
     "output_type": "execute_result"
    }
   ],
   "source": [
    "data.describe(include='category')"
   ],
   "metadata": {
    "collapsed": false,
    "ExecuteTime": {
     "end_time": "2024-04-01T05:54:34.237171400Z",
     "start_time": "2024-04-01T05:54:34.208883500Z"
    }
   },
   "id": "20d54e829962a6c"
  },
  {
   "cell_type": "code",
   "execution_count": 12,
   "outputs": [
    {
     "ename": "TypeError",
     "evalue": "Object with dtype category cannot perform the numpy op add",
     "output_type": "error",
     "traceback": [
      "\u001B[1;31m---------------------------------------------------------------------------\u001B[0m",
      "\u001B[1;31mTypeError\u001B[0m                                 Traceback (most recent call last)",
      "Cell \u001B[1;32mIn[12], line 2\u001B[0m\n\u001B[0;32m      1\u001B[0m \u001B[38;5;66;03m#Combining all the five selected features \u001B[39;00m\n\u001B[1;32m----> 2\u001B[0m combined_features \u001B[38;5;241m=\u001B[39m data[\u001B[38;5;124m'\u001B[39m\u001B[38;5;124mgenres\u001B[39m\u001B[38;5;124m'\u001B[39m] \u001B[38;5;241m+\u001B[39m \u001B[38;5;124m'\u001B[39m\u001B[38;5;124m \u001B[39m\u001B[38;5;124m'\u001B[39m\u001B[38;5;241m+\u001B[39mdata[\u001B[38;5;124m'\u001B[39m\u001B[38;5;124mkeywords\u001B[39m\u001B[38;5;124m'\u001B[39m] \u001B[38;5;241m+\u001B[39m \u001B[38;5;124m'\u001B[39m\u001B[38;5;124m \u001B[39m\u001B[38;5;124m'\u001B[39m\u001B[38;5;241m+\u001B[39m data[\u001B[38;5;124m'\u001B[39m\u001B[38;5;124mtagline\u001B[39m\u001B[38;5;124m'\u001B[39m] \u001B[38;5;241m+\u001B[39m\u001B[38;5;124m'\u001B[39m\u001B[38;5;124m \u001B[39m\u001B[38;5;124m'\u001B[39m \u001B[38;5;241m+\u001B[39m data[\u001B[38;5;124m'\u001B[39m\u001B[38;5;124mcast\u001B[39m\u001B[38;5;124m'\u001B[39m] \u001B[38;5;241m+\u001B[39m \u001B[38;5;124m'\u001B[39m\u001B[38;5;124m \u001B[39m\u001B[38;5;124m'\u001B[39m \u001B[38;5;241m+\u001B[39m data[\u001B[38;5;124m'\u001B[39m\u001B[38;5;124mdirector\u001B[39m\u001B[38;5;124m'\u001B[39m]\n\u001B[0;32m      3\u001B[0m combined_features\n",
      "File \u001B[1;32m~\\anaconda3\\Lib\\site-packages\\pandas\\core\\ops\\common.py:81\u001B[0m, in \u001B[0;36m_unpack_zerodim_and_defer.<locals>.new_method\u001B[1;34m(self, other)\u001B[0m\n\u001B[0;32m     77\u001B[0m             \u001B[38;5;28;01mreturn\u001B[39;00m \u001B[38;5;28mNotImplemented\u001B[39m\n\u001B[0;32m     79\u001B[0m other \u001B[38;5;241m=\u001B[39m item_from_zerodim(other)\n\u001B[1;32m---> 81\u001B[0m \u001B[38;5;28;01mreturn\u001B[39;00m method(\u001B[38;5;28mself\u001B[39m, other)\n",
      "File \u001B[1;32m~\\anaconda3\\Lib\\site-packages\\pandas\\core\\arraylike.py:186\u001B[0m, in \u001B[0;36mOpsMixin.__add__\u001B[1;34m(self, other)\u001B[0m\n\u001B[0;32m     98\u001B[0m \u001B[38;5;129m@unpack_zerodim_and_defer\u001B[39m(\u001B[38;5;124m\"\u001B[39m\u001B[38;5;124m__add__\u001B[39m\u001B[38;5;124m\"\u001B[39m)\n\u001B[0;32m     99\u001B[0m \u001B[38;5;28;01mdef\u001B[39;00m \u001B[38;5;21m__add__\u001B[39m(\u001B[38;5;28mself\u001B[39m, other):\n\u001B[0;32m    100\u001B[0m \u001B[38;5;250m    \u001B[39m\u001B[38;5;124;03m\"\"\"\u001B[39;00m\n\u001B[0;32m    101\u001B[0m \u001B[38;5;124;03m    Get Addition of DataFrame and other, column-wise.\u001B[39;00m\n\u001B[0;32m    102\u001B[0m \n\u001B[1;32m   (...)\u001B[0m\n\u001B[0;32m    184\u001B[0m \u001B[38;5;124;03m    moose     3.0     NaN\u001B[39;00m\n\u001B[0;32m    185\u001B[0m \u001B[38;5;124;03m    \"\"\"\u001B[39;00m\n\u001B[1;32m--> 186\u001B[0m     \u001B[38;5;28;01mreturn\u001B[39;00m \u001B[38;5;28mself\u001B[39m\u001B[38;5;241m.\u001B[39m_arith_method(other, operator\u001B[38;5;241m.\u001B[39madd)\n",
      "File \u001B[1;32m~\\anaconda3\\Lib\\site-packages\\pandas\\core\\series.py:6112\u001B[0m, in \u001B[0;36mSeries._arith_method\u001B[1;34m(self, other, op)\u001B[0m\n\u001B[0;32m   6110\u001B[0m \u001B[38;5;28;01mdef\u001B[39;00m \u001B[38;5;21m_arith_method\u001B[39m(\u001B[38;5;28mself\u001B[39m, other, op):\n\u001B[0;32m   6111\u001B[0m     \u001B[38;5;28mself\u001B[39m, other \u001B[38;5;241m=\u001B[39m ops\u001B[38;5;241m.\u001B[39malign_method_SERIES(\u001B[38;5;28mself\u001B[39m, other)\n\u001B[1;32m-> 6112\u001B[0m     \u001B[38;5;28;01mreturn\u001B[39;00m base\u001B[38;5;241m.\u001B[39mIndexOpsMixin\u001B[38;5;241m.\u001B[39m_arith_method(\u001B[38;5;28mself\u001B[39m, other, op)\n",
      "File \u001B[1;32m~\\anaconda3\\Lib\\site-packages\\pandas\\core\\base.py:1348\u001B[0m, in \u001B[0;36mIndexOpsMixin._arith_method\u001B[1;34m(self, other, op)\u001B[0m\n\u001B[0;32m   1345\u001B[0m rvalues \u001B[38;5;241m=\u001B[39m ensure_wrapped_if_datetimelike(rvalues)\n\u001B[0;32m   1347\u001B[0m \u001B[38;5;28;01mwith\u001B[39;00m np\u001B[38;5;241m.\u001B[39merrstate(\u001B[38;5;28mall\u001B[39m\u001B[38;5;241m=\u001B[39m\u001B[38;5;124m\"\u001B[39m\u001B[38;5;124mignore\u001B[39m\u001B[38;5;124m\"\u001B[39m):\n\u001B[1;32m-> 1348\u001B[0m     result \u001B[38;5;241m=\u001B[39m ops\u001B[38;5;241m.\u001B[39marithmetic_op(lvalues, rvalues, op)\n\u001B[0;32m   1350\u001B[0m \u001B[38;5;28;01mreturn\u001B[39;00m \u001B[38;5;28mself\u001B[39m\u001B[38;5;241m.\u001B[39m_construct_result(result, name\u001B[38;5;241m=\u001B[39mres_name)\n",
      "File \u001B[1;32m~\\anaconda3\\Lib\\site-packages\\pandas\\core\\ops\\array_ops.py:224\u001B[0m, in \u001B[0;36marithmetic_op\u001B[1;34m(left, right, op)\u001B[0m\n\u001B[0;32m    211\u001B[0m \u001B[38;5;66;03m# NB: We assume that extract_array and ensure_wrapped_if_datetimelike\u001B[39;00m\n\u001B[0;32m    212\u001B[0m \u001B[38;5;66;03m#  have already been called on `left` and `right`,\u001B[39;00m\n\u001B[0;32m    213\u001B[0m \u001B[38;5;66;03m#  and `maybe_prepare_scalar_for_op` has already been called on `right`\u001B[39;00m\n\u001B[0;32m    214\u001B[0m \u001B[38;5;66;03m# We need to special-case datetime64/timedelta64 dtypes (e.g. because numpy\u001B[39;00m\n\u001B[0;32m    215\u001B[0m \u001B[38;5;66;03m# casts integer dtypes to timedelta64 when operating with timedelta64 - GH#22390)\u001B[39;00m\n\u001B[0;32m    217\u001B[0m \u001B[38;5;28;01mif\u001B[39;00m (\n\u001B[0;32m    218\u001B[0m     should_extension_dispatch(left, right)\n\u001B[0;32m    219\u001B[0m     \u001B[38;5;129;01mor\u001B[39;00m \u001B[38;5;28misinstance\u001B[39m(right, (Timedelta, BaseOffset, Timestamp))\n\u001B[1;32m   (...)\u001B[0m\n\u001B[0;32m    222\u001B[0m     \u001B[38;5;66;03m# Timedelta/Timestamp and other custom scalars are included in the check\u001B[39;00m\n\u001B[0;32m    223\u001B[0m     \u001B[38;5;66;03m# because numexpr will fail on it, see GH#31457\u001B[39;00m\n\u001B[1;32m--> 224\u001B[0m     res_values \u001B[38;5;241m=\u001B[39m op(left, right)\n\u001B[0;32m    225\u001B[0m \u001B[38;5;28;01melse\u001B[39;00m:\n\u001B[0;32m    226\u001B[0m     \u001B[38;5;66;03m# TODO we should handle EAs consistently and move this check before the if/else\u001B[39;00m\n\u001B[0;32m    227\u001B[0m     \u001B[38;5;66;03m# (https://github.com/pandas-dev/pandas/issues/41165)\u001B[39;00m\n\u001B[0;32m    228\u001B[0m     _bool_arith_check(op, left, right)\n",
      "File \u001B[1;32m~\\anaconda3\\Lib\\site-packages\\pandas\\core\\arrays\\categorical.py:1374\u001B[0m, in \u001B[0;36mCategorical.__array_ufunc__\u001B[1;34m(self, ufunc, method, *inputs, **kwargs)\u001B[0m\n\u001B[0;32m   1370\u001B[0m         \u001B[38;5;28;01mreturn\u001B[39;00m result\n\u001B[0;32m   1372\u001B[0m \u001B[38;5;66;03m# for all other cases, raise for now (similarly as what happens in\u001B[39;00m\n\u001B[0;32m   1373\u001B[0m \u001B[38;5;66;03m# Series.__array_prepare__)\u001B[39;00m\n\u001B[1;32m-> 1374\u001B[0m \u001B[38;5;28;01mraise\u001B[39;00m \u001B[38;5;167;01mTypeError\u001B[39;00m(\n\u001B[0;32m   1375\u001B[0m     \u001B[38;5;124mf\u001B[39m\u001B[38;5;124m\"\u001B[39m\u001B[38;5;124mObject with dtype \u001B[39m\u001B[38;5;132;01m{\u001B[39;00m\u001B[38;5;28mself\u001B[39m\u001B[38;5;241m.\u001B[39mdtype\u001B[38;5;132;01m}\u001B[39;00m\u001B[38;5;124m cannot perform \u001B[39m\u001B[38;5;124m\"\u001B[39m\n\u001B[0;32m   1376\u001B[0m     \u001B[38;5;124mf\u001B[39m\u001B[38;5;124m\"\u001B[39m\u001B[38;5;124mthe numpy op \u001B[39m\u001B[38;5;132;01m{\u001B[39;00mufunc\u001B[38;5;241m.\u001B[39m\u001B[38;5;18m__name__\u001B[39m\u001B[38;5;132;01m}\u001B[39;00m\u001B[38;5;124m\"\u001B[39m\n\u001B[0;32m   1377\u001B[0m )\n",
      "\u001B[1;31mTypeError\u001B[0m: Object with dtype category cannot perform the numpy op add"
     ]
    }
   ],
   "source": [
    "#Combining all the five selected features \n",
    "combined_features = data['genres'] + ' '+data['keywords'] + ' '+ data['tagline'] +' ' + data['cast'] + ' ' + data['director']\n",
    "combined_features"
   ],
   "metadata": {
    "collapsed": false,
    "ExecuteTime": {
     "end_time": "2024-04-01T05:54:54.302766600Z",
     "start_time": "2024-04-01T05:54:52.907504800Z"
    }
   },
   "id": "4831be7299a07926"
  },
  {
   "cell_type": "code",
   "execution_count": 13,
   "outputs": [
    {
     "ename": "NameError",
     "evalue": "name 'combined_features' is not defined",
     "output_type": "error",
     "traceback": [
      "\u001B[1;31m---------------------------------------------------------------------------\u001B[0m",
      "\u001B[1;31mNameError\u001B[0m                                 Traceback (most recent call last)",
      "Cell \u001B[1;32mIn[13], line 3\u001B[0m\n\u001B[0;32m      1\u001B[0m \u001B[38;5;66;03m#Coverting the text data to features vectors\u001B[39;00m\n\u001B[0;32m      2\u001B[0m vectorizer \u001B[38;5;241m=\u001B[39m TfidfVectorizer()\n\u001B[1;32m----> 3\u001B[0m feature_vectors \u001B[38;5;241m=\u001B[39m vectorizer\u001B[38;5;241m.\u001B[39mfit_transform(combined_features)\n",
      "\u001B[1;31mNameError\u001B[0m: name 'combined_features' is not defined"
     ]
    }
   ],
   "source": [
    "#Coverting the text data to features vectors\n",
    "vectorizer = TfidfVectorizer()\n",
    "feature_vectors = vectorizer.fit_transform(combined_features)"
   ],
   "metadata": {
    "collapsed": false,
    "ExecuteTime": {
     "end_time": "2024-04-01T05:55:41.458847200Z",
     "start_time": "2024-04-01T05:55:41.437273700Z"
    }
   },
   "id": "a57730db2a699af5"
  },
  {
   "cell_type": "code",
   "execution_count": null,
   "outputs": [],
   "source": [
    "print(feature_vectors[1])"
   ],
   "metadata": {
    "collapsed": false,
    "ExecuteTime": {
     "start_time": "2023-09-06T03:13:52.964952500Z"
    }
   },
   "id": "6f85c3b7ddaf6023"
  },
  {
   "cell_type": "markdown",
   "source": [
    "# Cosine Similarity"
   ],
   "metadata": {
    "collapsed": false
   },
   "id": "f01067977d177d4e"
  },
  {
   "cell_type": "code",
   "execution_count": null,
   "outputs": [],
   "source": [
    "similarity = cosine_similarity(feature_vectors)\n",
    "similarity"
   ],
   "metadata": {
    "collapsed": false,
    "ExecuteTime": {
     "start_time": "2023-09-06T03:13:52.964952500Z"
    }
   },
   "id": "74d89e225101fb7d"
  },
  {
   "cell_type": "code",
   "execution_count": null,
   "outputs": [],
   "source": [
    "# getting the movie name from user:\n",
    "movie_name = input(\"Enter your favourite movie name:\")"
   ],
   "metadata": {
    "collapsed": false,
    "ExecuteTime": {
     "start_time": "2023-09-06T03:13:52.964952500Z"
    }
   },
   "id": "5a0a5a0a38237c6c"
  },
  {
   "cell_type": "code",
   "execution_count": null,
   "outputs": [],
   "source": [
    "#Creating a list with all the movie names given in the dataset\n",
    "list_title = data['title'].to_list()"
   ],
   "metadata": {
    "collapsed": false,
    "ExecuteTime": {
     "start_time": "2023-09-06T03:13:52.964952500Z"
    }
   },
   "id": "ed16c9682aabb56d"
  },
  {
   "cell_type": "code",
   "execution_count": null,
   "outputs": [],
   "source": [
    "find_close_match = difflib.get_close_matches(movie_name, list_title)\n",
    "find_close_match"
   ],
   "metadata": {
    "collapsed": false,
    "ExecuteTime": {
     "start_time": "2023-09-06T03:13:52.972499Z"
    }
   },
   "id": "e8526137bd3d1552"
  },
  {
   "cell_type": "code",
   "execution_count": null,
   "outputs": [],
   "source": [
    "close_match = find_close_match[0]"
   ],
   "metadata": {
    "collapsed": false,
    "ExecuteTime": {
     "start_time": "2023-09-06T03:13:52.974028900Z"
    }
   },
   "id": "9c316daac6febaf1"
  },
  {
   "cell_type": "code",
   "execution_count": null,
   "outputs": [],
   "source": [
    "#Finding the index movies with title\n",
    "index_of_movie = data[data['title'] == close_match]['index'].values[0]\n",
    "index_of_movie"
   ],
   "metadata": {
    "collapsed": false,
    "ExecuteTime": {
     "end_time": "2023-09-06T03:13:52.983597900Z",
     "start_time": "2023-09-06T03:13:52.974028900Z"
    }
   },
   "id": "63a4d17812656f62"
  },
  {
   "cell_type": "code",
   "execution_count": null,
   "outputs": [],
   "source": [
    "# getting a list of similar movies  \n",
    "similarity_of_movie = list(enumerate(similarity[index_of_movie]))\n",
    "similarity_of_movie"
   ],
   "metadata": {
    "collapsed": false,
    "ExecuteTime": {
     "start_time": "2023-09-06T03:13:52.974028900Z"
    }
   },
   "id": "816207dd03eee929"
  },
  {
   "cell_type": "code",
   "execution_count": null,
   "outputs": [],
   "source": [
    "# Sorting the movies based on their similarity score\n",
    "sorted_similarity = sorted(similarity_of_movie, key= lambda x: x[1], reverse=True)\n",
    "# sorted_similarity = list(filter(lambda x : x[1] > 0, sorted_similarity))\n",
    "sorted_similarity"
   ],
   "metadata": {
    "collapsed": false,
    "ExecuteTime": {
     "start_time": "2023-09-06T03:13:52.974028900Z"
    }
   },
   "id": "cacd182d7b9ec57d"
  },
  {
   "cell_type": "markdown",
   "source": [
    "# Movie Recommendation"
   ],
   "metadata": {
    "collapsed": false
   },
   "id": "d443e0f82e16ea4a"
  },
  {
   "cell_type": "code",
   "execution_count": null,
   "outputs": [],
   "source": [
    "\n",
    "\n",
    "movie_name = input(' Enter your favourite movie name : ')\n",
    "\n",
    "list_titles = data['title'].tolist()\n",
    "\n",
    "find_close_match = difflib.get_close_matches(movie_name, list_titles)\n",
    "\n",
    "if find_close_match == []:\n",
    "    print(\"Can't find your movie please try again...!\")\n",
    "else:\n",
    "    close_match = find_close_match[0]\n",
    "    \n",
    "    index_of_the_movie = data[data.title == close_match]['index'].values[0]\n",
    "    \n",
    "    similarity_score = list(enumerate(similarity[index_of_the_movie]))\n",
    "    \n",
    "    sorted_similar_movies = sorted(similarity_score, key = lambda x:x[1], reverse = True) \n",
    "    \n",
    "    print('Movies suggest for you:\\n')\n",
    "    i = 0\n",
    "    \n",
    "    for movie in sorted_similar_movies:\n",
    "        index = movie[0]\n",
    "        title_from_index = data[data.index==index]['title'].values[0]\n",
    "        if i<30:\n",
    "            print(i, ':',title_from_index)\n",
    "            i+=1"
   ],
   "metadata": {
    "collapsed": false,
    "ExecuteTime": {
     "start_time": "2023-09-06T03:13:52.974028900Z"
    }
   },
   "id": "2be2c257e28767bb"
  },
  {
   "cell_type": "markdown",
   "source": [],
   "metadata": {
    "collapsed": false
   },
   "id": "8807a797a12b54de"
  }
 ],
 "metadata": {
  "kernelspec": {
   "display_name": "Python 3",
   "language": "python",
   "name": "python3"
  },
  "language_info": {
   "codemirror_mode": {
    "name": "ipython",
    "version": 2
   },
   "file_extension": ".py",
   "mimetype": "text/x-python",
   "name": "python",
   "nbconvert_exporter": "python",
   "pygments_lexer": "ipython2",
   "version": "2.7.6"
  }
 },
 "nbformat": 4,
 "nbformat_minor": 5
}
